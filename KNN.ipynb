{
  "nbformat": 4,
  "nbformat_minor": 0,
  "metadata": {
    "colab": {
      "provenance": [],
      "authorship_tag": "ABX9TyOk8KVc1QYR65IQBgYRPMrK"
    },
    "kernelspec": {
      "name": "python3",
      "display_name": "Python 3"
    },
    "language_info": {
      "name": "python"
    }
  },
  "cells": [
    {
      "cell_type": "code",
      "source": [
        "import pandas as pd\n",
        "import numpy as np\n",
        "from sklearn.model_selection import train_test_split\n",
        "from sklearn.neighbors import NearestNeighbors\n",
        "from sklearn.neighbors import KNeighborsClassifier\n",
        "from sklearn.metrics import f1_score\n",
        "from sklearn.preprocessing import MinMaxScaler\n",
        "import seaborn as sns\n",
        "from matplotlib import pyplot as plt\n",
        "import warnings\n",
        "warnings.filterwarnings(\"ignore\")"
      ],
      "metadata": {
        "id": "GLVLHo1YnA6V"
      },
      "execution_count": 10,
      "outputs": []
    },
    {
      "cell_type": "markdown",
      "source": [
        "#Задача 1"
      ],
      "metadata": {
        "id": "YpEEJ-6hm7E1"
      }
    },
    {
      "cell_type": "markdown",
      "source": [
        "Дана таблица некоторых синтетических данных, на основании которых необходимо выполнить классификацию нового объекта, с помощью метода k-ближайших соседей"
      ],
      "metadata": {
        "id": "Gs2Ggk_A_BVo"
      }
    },
    {
      "cell_type": "code",
      "execution_count": 7,
      "metadata": {
        "id": "8rLUndRildZX"
      },
      "outputs": [],
      "source": [
        "df = pd.read_csv('task_3.csv', index_col='id')\n",
        "X = pd.DataFrame(df.drop(['Class'], axis=1))\n",
        "y = pd.DataFrame(df['Class'])\n",
        "point = [52, 87] #координаты из задачи"
      ]
    },
    {
      "cell_type": "markdown",
      "source": [
        "Найдем для нового объекта трех ближаиших соседей используя евклидову метрику."
      ],
      "metadata": {
        "id": "h48GpvacAMYl"
      }
    },
    {
      "cell_type": "code",
      "source": [
        "neighbor = NearestNeighbors(n_neighbors=3)\n",
        "neighbor.fit(X)\n",
        "print(neighbor.kneighbors([point]))"
      ],
      "metadata": {
        "colab": {
          "base_uri": "https://localhost:8080/"
        },
        "id": "d_9uDh_ooXeg",
        "outputId": "e2dc1274-045f-4868-9a2b-4a90b4e7c9f1"
      },
      "execution_count": 8,
      "outputs": [
        {
          "output_type": "stream",
          "name": "stdout",
          "text": [
            "(array([[19.23538406, 25.        , 30.2654919 ]]), array([[6, 4, 9]]))\n"
          ]
        }
      ]
    },
    {
      "cell_type": "markdown",
      "source": [
        "Ближайший сосед находится на расстоянии 19.23538406, его идентификатор - 7."
      ],
      "metadata": {
        "id": "ouwI5xh6nENT"
      }
    },
    {
      "cell_type": "markdown",
      "source": [
        "Определим класс для нового объекта на основе классов трех ближайших соседей."
      ],
      "metadata": {
        "id": "JrqwKAQenN-1"
      }
    },
    {
      "cell_type": "code",
      "source": [
        "euclid = KNeighborsClassifier(n_neighbors = 3, p = 2)\n",
        "euclid.fit(X, y)\n",
        "euclid.predict([point])"
      ],
      "metadata": {
        "colab": {
          "base_uri": "https://localhost:8080/"
        },
        "id": "FvzDO0zMpxlD",
        "outputId": "ff0c80d7-44ec-4919-c542-8cabafff005c"
      },
      "execution_count": null,
      "outputs": [
        {
          "output_type": "execute_result",
          "data": {
            "text/plain": [
              "array([0])"
            ]
          },
          "metadata": {},
          "execution_count": 11
        }
      ]
    },
    {
      "cell_type": "markdown",
      "source": [
        "Найдем для нового объекта трех ближаиших соседей используя метрику городских кварталов (Манхеттенское расстояние)."
      ],
      "metadata": {
        "id": "eJPkkSOBnMa0"
      }
    },
    {
      "cell_type": "code",
      "source": [
        "man_neighbor = NearestNeighbors(n_neighbors=3, p=1)\n",
        "man_neighbor.fit(X)\n",
        "print(man_neighbor.kneighbors([point]))"
      ],
      "metadata": {
        "colab": {
          "base_uri": "https://localhost:8080/"
        },
        "id": "J6MGsED2qcZb",
        "outputId": "0c8978e1-274e-4d23-932c-d474fcbb0b90"
      },
      "execution_count": null,
      "outputs": [
        {
          "output_type": "stream",
          "name": "stdout",
          "text": [
            "(array([[25., 26., 34.]]), array([[4, 6, 9]]))\n"
          ]
        }
      ]
    },
    {
      "cell_type": "markdown",
      "source": [
        "Ближайший сосед находится на расстоянии 25, его идентификатор - 5."
      ],
      "metadata": {
        "id": "wOV7iEPHnhrv"
      }
    },
    {
      "cell_type": "code",
      "source": [
        "man = KNeighborsClassifier(n_neighbors = 3, p = 1)\n",
        "man.fit(X, y)\n",
        "man.predict([point])"
      ],
      "metadata": {
        "id": "F7k9Iaabqtdd",
        "outputId": "e2a05fcf-1d75-4884-ef40-033e732c4d58",
        "colab": {
          "base_uri": "https://localhost:8080/"
        }
      },
      "execution_count": null,
      "outputs": [
        {
          "output_type": "execute_result",
          "data": {
            "text/plain": [
              "array([0])"
            ]
          },
          "metadata": {},
          "execution_count": 13
        }
      ]
    },
    {
      "cell_type": "markdown",
      "source": [
        "На основе классов трех ближайших соседей класс нового объекта - 0."
      ],
      "metadata": {
        "id": "iC4E3givGiCI"
      }
    },
    {
      "cell_type": "markdown",
      "source": [
        "#Задача 2"
      ],
      "metadata": {
        "id": "jXjHV7ggtT0L"
      }
    },
    {
      "cell_type": "markdown",
      "source": [
        "Набор данных содержит информацию о некотором количестве людей, проживающих в США. Задача состоит в том, чтобы предсказать, зарабатывает человек более $50k в год или нет."
      ],
      "metadata": {
        "id": "M5aqkphHGsoQ"
      }
    },
    {
      "cell_type": "markdown",
      "source": [
        "Избавимся от признаков `education`, `marital-status` согласно заданию."
      ],
      "metadata": {
        "id": "WAX7eoEJG6ms"
      }
    },
    {
      "cell_type": "code",
      "source": [
        "df = pd.read_csv('/content/adult_data_train.csv')\n",
        "df = df.drop(['education', 'marital-status'], axis=1)\n",
        "df.head(3)"
      ],
      "metadata": {
        "colab": {
          "base_uri": "https://localhost:8080/",
          "height": 250
        },
        "id": "Sw8jfICvtY-P",
        "outputId": "24167a0d-cf1a-4ca6-c2a6-5b7d85d11613"
      },
      "execution_count": null,
      "outputs": [
        {
          "output_type": "execute_result",
          "data": {
            "text/plain": [
              "   age workclass  fnlwgt  education-num       occupation   relationship  \\\n",
              "0   32   Private   37210             13  Exec-managerial        Husband   \n",
              "1   43   Private  101950             14  Exec-managerial  Not-in-family   \n",
              "2   20         ?  122244              9                ?  Not-in-family   \n",
              "\n",
              "    race     sex  capital-gain  capital-loss  hours-per-week native-country  \\\n",
              "0  White    Male             0             0              45  United-States   \n",
              "1  White  Female             0             0              45  United-States   \n",
              "2  White  Female             0             0              28  United-States   \n",
              "\n",
              "   label  \n",
              "0      1  \n",
              "1      0  \n",
              "2      0  "
            ],
            "text/html": [
              "\n",
              "  <div id=\"df-e66f9c67-4e05-4690-b826-bbeb9313ef82\" class=\"colab-df-container\">\n",
              "    <div>\n",
              "<style scoped>\n",
              "    .dataframe tbody tr th:only-of-type {\n",
              "        vertical-align: middle;\n",
              "    }\n",
              "\n",
              "    .dataframe tbody tr th {\n",
              "        vertical-align: top;\n",
              "    }\n",
              "\n",
              "    .dataframe thead th {\n",
              "        text-align: right;\n",
              "    }\n",
              "</style>\n",
              "<table border=\"1\" class=\"dataframe\">\n",
              "  <thead>\n",
              "    <tr style=\"text-align: right;\">\n",
              "      <th></th>\n",
              "      <th>age</th>\n",
              "      <th>workclass</th>\n",
              "      <th>fnlwgt</th>\n",
              "      <th>education-num</th>\n",
              "      <th>occupation</th>\n",
              "      <th>relationship</th>\n",
              "      <th>race</th>\n",
              "      <th>sex</th>\n",
              "      <th>capital-gain</th>\n",
              "      <th>capital-loss</th>\n",
              "      <th>hours-per-week</th>\n",
              "      <th>native-country</th>\n",
              "      <th>label</th>\n",
              "    </tr>\n",
              "  </thead>\n",
              "  <tbody>\n",
              "    <tr>\n",
              "      <th>0</th>\n",
              "      <td>32</td>\n",
              "      <td>Private</td>\n",
              "      <td>37210</td>\n",
              "      <td>13</td>\n",
              "      <td>Exec-managerial</td>\n",
              "      <td>Husband</td>\n",
              "      <td>White</td>\n",
              "      <td>Male</td>\n",
              "      <td>0</td>\n",
              "      <td>0</td>\n",
              "      <td>45</td>\n",
              "      <td>United-States</td>\n",
              "      <td>1</td>\n",
              "    </tr>\n",
              "    <tr>\n",
              "      <th>1</th>\n",
              "      <td>43</td>\n",
              "      <td>Private</td>\n",
              "      <td>101950</td>\n",
              "      <td>14</td>\n",
              "      <td>Exec-managerial</td>\n",
              "      <td>Not-in-family</td>\n",
              "      <td>White</td>\n",
              "      <td>Female</td>\n",
              "      <td>0</td>\n",
              "      <td>0</td>\n",
              "      <td>45</td>\n",
              "      <td>United-States</td>\n",
              "      <td>0</td>\n",
              "    </tr>\n",
              "    <tr>\n",
              "      <th>2</th>\n",
              "      <td>20</td>\n",
              "      <td>?</td>\n",
              "      <td>122244</td>\n",
              "      <td>9</td>\n",
              "      <td>?</td>\n",
              "      <td>Not-in-family</td>\n",
              "      <td>White</td>\n",
              "      <td>Female</td>\n",
              "      <td>0</td>\n",
              "      <td>0</td>\n",
              "      <td>28</td>\n",
              "      <td>United-States</td>\n",
              "      <td>0</td>\n",
              "    </tr>\n",
              "  </tbody>\n",
              "</table>\n",
              "</div>\n",
              "    <div class=\"colab-df-buttons\">\n",
              "\n",
              "  <div class=\"colab-df-container\">\n",
              "    <button class=\"colab-df-convert\" onclick=\"convertToInteractive('df-e66f9c67-4e05-4690-b826-bbeb9313ef82')\"\n",
              "            title=\"Convert this dataframe to an interactive table.\"\n",
              "            style=\"display:none;\">\n",
              "\n",
              "  <svg xmlns=\"http://www.w3.org/2000/svg\" height=\"24px\" viewBox=\"0 -960 960 960\">\n",
              "    <path d=\"M120-120v-720h720v720H120Zm60-500h600v-160H180v160Zm220 220h160v-160H400v160Zm0 220h160v-160H400v160ZM180-400h160v-160H180v160Zm440 0h160v-160H620v160ZM180-180h160v-160H180v160Zm440 0h160v-160H620v160Z\"/>\n",
              "  </svg>\n",
              "    </button>\n",
              "\n",
              "  <style>\n",
              "    .colab-df-container {\n",
              "      display:flex;\n",
              "      gap: 12px;\n",
              "    }\n",
              "\n",
              "    .colab-df-convert {\n",
              "      background-color: #E8F0FE;\n",
              "      border: none;\n",
              "      border-radius: 50%;\n",
              "      cursor: pointer;\n",
              "      display: none;\n",
              "      fill: #1967D2;\n",
              "      height: 32px;\n",
              "      padding: 0 0 0 0;\n",
              "      width: 32px;\n",
              "    }\n",
              "\n",
              "    .colab-df-convert:hover {\n",
              "      background-color: #E2EBFA;\n",
              "      box-shadow: 0px 1px 2px rgba(60, 64, 67, 0.3), 0px 1px 3px 1px rgba(60, 64, 67, 0.15);\n",
              "      fill: #174EA6;\n",
              "    }\n",
              "\n",
              "    .colab-df-buttons div {\n",
              "      margin-bottom: 4px;\n",
              "    }\n",
              "\n",
              "    [theme=dark] .colab-df-convert {\n",
              "      background-color: #3B4455;\n",
              "      fill: #D2E3FC;\n",
              "    }\n",
              "\n",
              "    [theme=dark] .colab-df-convert:hover {\n",
              "      background-color: #434B5C;\n",
              "      box-shadow: 0px 1px 3px 1px rgba(0, 0, 0, 0.15);\n",
              "      filter: drop-shadow(0px 1px 2px rgba(0, 0, 0, 0.3));\n",
              "      fill: #FFFFFF;\n",
              "    }\n",
              "  </style>\n",
              "\n",
              "    <script>\n",
              "      const buttonEl =\n",
              "        document.querySelector('#df-e66f9c67-4e05-4690-b826-bbeb9313ef82 button.colab-df-convert');\n",
              "      buttonEl.style.display =\n",
              "        google.colab.kernel.accessAllowed ? 'block' : 'none';\n",
              "\n",
              "      async function convertToInteractive(key) {\n",
              "        const element = document.querySelector('#df-e66f9c67-4e05-4690-b826-bbeb9313ef82');\n",
              "        const dataTable =\n",
              "          await google.colab.kernel.invokeFunction('convertToInteractive',\n",
              "                                                    [key], {});\n",
              "        if (!dataTable) return;\n",
              "\n",
              "        const docLinkHtml = 'Like what you see? Visit the ' +\n",
              "          '<a target=\"_blank\" href=https://colab.research.google.com/notebooks/data_table.ipynb>data table notebook</a>'\n",
              "          + ' to learn more about interactive tables.';\n",
              "        element.innerHTML = '';\n",
              "        dataTable['output_type'] = 'display_data';\n",
              "        await google.colab.output.renderOutput(dataTable, element);\n",
              "        const docLink = document.createElement('div');\n",
              "        docLink.innerHTML = docLinkHtml;\n",
              "        element.appendChild(docLink);\n",
              "      }\n",
              "    </script>\n",
              "  </div>\n",
              "\n",
              "\n",
              "<div id=\"df-b8f34a2f-6cd6-4ba6-a36c-d1075f9039bf\">\n",
              "  <button class=\"colab-df-quickchart\" onclick=\"quickchart('df-b8f34a2f-6cd6-4ba6-a36c-d1075f9039bf')\"\n",
              "            title=\"Suggest charts\"\n",
              "            style=\"display:none;\">\n",
              "\n",
              "<svg xmlns=\"http://www.w3.org/2000/svg\" height=\"24px\"viewBox=\"0 0 24 24\"\n",
              "     width=\"24px\">\n",
              "    <g>\n",
              "        <path d=\"M19 3H5c-1.1 0-2 .9-2 2v14c0 1.1.9 2 2 2h14c1.1 0 2-.9 2-2V5c0-1.1-.9-2-2-2zM9 17H7v-7h2v7zm4 0h-2V7h2v10zm4 0h-2v-4h2v4z\"/>\n",
              "    </g>\n",
              "</svg>\n",
              "  </button>\n",
              "\n",
              "<style>\n",
              "  .colab-df-quickchart {\n",
              "      --bg-color: #E8F0FE;\n",
              "      --fill-color: #1967D2;\n",
              "      --hover-bg-color: #E2EBFA;\n",
              "      --hover-fill-color: #174EA6;\n",
              "      --disabled-fill-color: #AAA;\n",
              "      --disabled-bg-color: #DDD;\n",
              "  }\n",
              "\n",
              "  [theme=dark] .colab-df-quickchart {\n",
              "      --bg-color: #3B4455;\n",
              "      --fill-color: #D2E3FC;\n",
              "      --hover-bg-color: #434B5C;\n",
              "      --hover-fill-color: #FFFFFF;\n",
              "      --disabled-bg-color: #3B4455;\n",
              "      --disabled-fill-color: #666;\n",
              "  }\n",
              "\n",
              "  .colab-df-quickchart {\n",
              "    background-color: var(--bg-color);\n",
              "    border: none;\n",
              "    border-radius: 50%;\n",
              "    cursor: pointer;\n",
              "    display: none;\n",
              "    fill: var(--fill-color);\n",
              "    height: 32px;\n",
              "    padding: 0;\n",
              "    width: 32px;\n",
              "  }\n",
              "\n",
              "  .colab-df-quickchart:hover {\n",
              "    background-color: var(--hover-bg-color);\n",
              "    box-shadow: 0 1px 2px rgba(60, 64, 67, 0.3), 0 1px 3px 1px rgba(60, 64, 67, 0.15);\n",
              "    fill: var(--button-hover-fill-color);\n",
              "  }\n",
              "\n",
              "  .colab-df-quickchart-complete:disabled,\n",
              "  .colab-df-quickchart-complete:disabled:hover {\n",
              "    background-color: var(--disabled-bg-color);\n",
              "    fill: var(--disabled-fill-color);\n",
              "    box-shadow: none;\n",
              "  }\n",
              "\n",
              "  .colab-df-spinner {\n",
              "    border: 2px solid var(--fill-color);\n",
              "    border-color: transparent;\n",
              "    border-bottom-color: var(--fill-color);\n",
              "    animation:\n",
              "      spin 1s steps(1) infinite;\n",
              "  }\n",
              "\n",
              "  @keyframes spin {\n",
              "    0% {\n",
              "      border-color: transparent;\n",
              "      border-bottom-color: var(--fill-color);\n",
              "      border-left-color: var(--fill-color);\n",
              "    }\n",
              "    20% {\n",
              "      border-color: transparent;\n",
              "      border-left-color: var(--fill-color);\n",
              "      border-top-color: var(--fill-color);\n",
              "    }\n",
              "    30% {\n",
              "      border-color: transparent;\n",
              "      border-left-color: var(--fill-color);\n",
              "      border-top-color: var(--fill-color);\n",
              "      border-right-color: var(--fill-color);\n",
              "    }\n",
              "    40% {\n",
              "      border-color: transparent;\n",
              "      border-right-color: var(--fill-color);\n",
              "      border-top-color: var(--fill-color);\n",
              "    }\n",
              "    60% {\n",
              "      border-color: transparent;\n",
              "      border-right-color: var(--fill-color);\n",
              "    }\n",
              "    80% {\n",
              "      border-color: transparent;\n",
              "      border-right-color: var(--fill-color);\n",
              "      border-bottom-color: var(--fill-color);\n",
              "    }\n",
              "    90% {\n",
              "      border-color: transparent;\n",
              "      border-bottom-color: var(--fill-color);\n",
              "    }\n",
              "  }\n",
              "</style>\n",
              "\n",
              "  <script>\n",
              "    async function quickchart(key) {\n",
              "      const quickchartButtonEl =\n",
              "        document.querySelector('#' + key + ' button');\n",
              "      quickchartButtonEl.disabled = true;  // To prevent multiple clicks.\n",
              "      quickchartButtonEl.classList.add('colab-df-spinner');\n",
              "      try {\n",
              "        const charts = await google.colab.kernel.invokeFunction(\n",
              "            'suggestCharts', [key], {});\n",
              "      } catch (error) {\n",
              "        console.error('Error during call to suggestCharts:', error);\n",
              "      }\n",
              "      quickchartButtonEl.classList.remove('colab-df-spinner');\n",
              "      quickchartButtonEl.classList.add('colab-df-quickchart-complete');\n",
              "    }\n",
              "    (() => {\n",
              "      let quickchartButtonEl =\n",
              "        document.querySelector('#df-b8f34a2f-6cd6-4ba6-a36c-d1075f9039bf button');\n",
              "      quickchartButtonEl.style.display =\n",
              "        google.colab.kernel.accessAllowed ? 'block' : 'none';\n",
              "    })();\n",
              "  </script>\n",
              "</div>\n",
              "    </div>\n",
              "  </div>\n"
            ],
            "application/vnd.google.colaboratory.intrinsic+json": {
              "type": "dataframe",
              "variable_name": "df",
              "summary": "{\n  \"name\": \"df\",\n  \"rows\": 26048,\n  \"fields\": [\n    {\n      \"column\": \"age\",\n      \"properties\": {\n        \"dtype\": \"number\",\n        \"std\": 13,\n        \"min\": 17,\n        \"max\": 90,\n        \"num_unique_values\": 71,\n        \"samples\": [\n          37,\n          32,\n          73\n        ],\n        \"semantic_type\": \"\",\n        \"description\": \"\"\n      }\n    },\n    {\n      \"column\": \"workclass\",\n      \"properties\": {\n        \"dtype\": \"category\",\n        \"num_unique_values\": 9,\n        \"samples\": [\n          \"Without-pay\",\n          \"?\",\n          \"Self-emp-not-inc\"\n        ],\n        \"semantic_type\": \"\",\n        \"description\": \"\"\n      }\n    },\n    {\n      \"column\": \"fnlwgt\",\n      \"properties\": {\n        \"dtype\": \"number\",\n        \"std\": 105510,\n        \"min\": 12285,\n        \"max\": 1484705,\n        \"num_unique_values\": 18437,\n        \"samples\": [\n          323627,\n          202373,\n          92440\n        ],\n        \"semantic_type\": \"\",\n        \"description\": \"\"\n      }\n    },\n    {\n      \"column\": \"education-num\",\n      \"properties\": {\n        \"dtype\": \"number\",\n        \"std\": 2,\n        \"min\": 1,\n        \"max\": 16,\n        \"num_unique_values\": 16,\n        \"samples\": [\n          13,\n          14,\n          6\n        ],\n        \"semantic_type\": \"\",\n        \"description\": \"\"\n      }\n    },\n    {\n      \"column\": \"occupation\",\n      \"properties\": {\n        \"dtype\": \"category\",\n        \"num_unique_values\": 15,\n        \"samples\": [\n          \"Machine-op-inspct\",\n          \"Adm-clerical\",\n          \"Exec-managerial\"\n        ],\n        \"semantic_type\": \"\",\n        \"description\": \"\"\n      }\n    },\n    {\n      \"column\": \"relationship\",\n      \"properties\": {\n        \"dtype\": \"category\",\n        \"num_unique_values\": 6,\n        \"samples\": [\n          \"Husband\",\n          \"Not-in-family\",\n          \"Other-relative\"\n        ],\n        \"semantic_type\": \"\",\n        \"description\": \"\"\n      }\n    },\n    {\n      \"column\": \"race\",\n      \"properties\": {\n        \"dtype\": \"category\",\n        \"num_unique_values\": 5,\n        \"samples\": [\n          \"Black\",\n          \"Other\",\n          \"Amer-Indian-Eskimo\"\n        ],\n        \"semantic_type\": \"\",\n        \"description\": \"\"\n      }\n    },\n    {\n      \"column\": \"sex\",\n      \"properties\": {\n        \"dtype\": \"category\",\n        \"num_unique_values\": 2,\n        \"samples\": [\n          \"Female\",\n          \"Male\"\n        ],\n        \"semantic_type\": \"\",\n        \"description\": \"\"\n      }\n    },\n    {\n      \"column\": \"capital-gain\",\n      \"properties\": {\n        \"dtype\": \"number\",\n        \"std\": 7299,\n        \"min\": 0,\n        \"max\": 99999,\n        \"num_unique_values\": 115,\n        \"samples\": [\n          6360,\n          3103\n        ],\n        \"semantic_type\": \"\",\n        \"description\": \"\"\n      }\n    },\n    {\n      \"column\": \"capital-loss\",\n      \"properties\": {\n        \"dtype\": \"number\",\n        \"std\": 404,\n        \"min\": 0,\n        \"max\": 4356,\n        \"num_unique_values\": 88,\n        \"samples\": [\n          653,\n          0\n        ],\n        \"semantic_type\": \"\",\n        \"description\": \"\"\n      }\n    },\n    {\n      \"column\": \"hours-per-week\",\n      \"properties\": {\n        \"dtype\": \"number\",\n        \"std\": 12,\n        \"min\": 1,\n        \"max\": 99,\n        \"num_unique_values\": 94,\n        \"samples\": [\n          1,\n          25\n        ],\n        \"semantic_type\": \"\",\n        \"description\": \"\"\n      }\n    },\n    {\n      \"column\": \"native-country\",\n      \"properties\": {\n        \"dtype\": \"category\",\n        \"num_unique_values\": 42,\n        \"samples\": [\n          \"China\",\n          \"El-Salvador\"\n        ],\n        \"semantic_type\": \"\",\n        \"description\": \"\"\n      }\n    },\n    {\n      \"column\": \"label\",\n      \"properties\": {\n        \"dtype\": \"number\",\n        \"std\": 0,\n        \"min\": 0,\n        \"max\": 1,\n        \"num_unique_values\": 2,\n        \"samples\": [\n          0,\n          1\n        ],\n        \"semantic_type\": \"\",\n        \"description\": \"\"\n      }\n    }\n  ]\n}"
            }
          },
          "metadata": {},
          "execution_count": 3
        }
      ]
    },
    {
      "cell_type": "code",
      "source": [
        "len(df.select_dtypes(exclude='number').columns)"
      ],
      "metadata": {
        "colab": {
          "base_uri": "https://localhost:8080/"
        },
        "id": "zHQGIAykuW5n",
        "outputId": "363405f5-dab3-4820-a142-b9baadc3dc01"
      },
      "execution_count": null,
      "outputs": [
        {
          "output_type": "execute_result",
          "data": {
            "text/plain": [
              "6"
            ]
          },
          "metadata": {},
          "execution_count": 20
        }
      ]
    },
    {
      "cell_type": "markdown",
      "source": [
        "Имеем 6 нечисловых признаков."
      ],
      "metadata": {
        "id": "BZK6Y_6UuzCc"
      }
    },
    {
      "cell_type": "code",
      "source": [
        "df['label'].value_counts()/len(df)"
      ],
      "metadata": {
        "colab": {
          "base_uri": "https://localhost:8080/",
          "height": 178
        },
        "id": "yjEqVNqAvC0z",
        "outputId": "44797399-bf6b-46b6-f779-76e156527000"
      },
      "execution_count": null,
      "outputs": [
        {
          "output_type": "execute_result",
          "data": {
            "text/plain": [
              "label\n",
              "0    0.759175\n",
              "1    0.240825\n",
              "Name: count, dtype: float64"
            ],
            "text/html": [
              "<div>\n",
              "<style scoped>\n",
              "    .dataframe tbody tr th:only-of-type {\n",
              "        vertical-align: middle;\n",
              "    }\n",
              "\n",
              "    .dataframe tbody tr th {\n",
              "        vertical-align: top;\n",
              "    }\n",
              "\n",
              "    .dataframe thead th {\n",
              "        text-align: right;\n",
              "    }\n",
              "</style>\n",
              "<table border=\"1\" class=\"dataframe\">\n",
              "  <thead>\n",
              "    <tr style=\"text-align: right;\">\n",
              "      <th></th>\n",
              "      <th>count</th>\n",
              "    </tr>\n",
              "    <tr>\n",
              "      <th>label</th>\n",
              "      <th></th>\n",
              "    </tr>\n",
              "  </thead>\n",
              "  <tbody>\n",
              "    <tr>\n",
              "      <th>0</th>\n",
              "      <td>0.759175</td>\n",
              "    </tr>\n",
              "    <tr>\n",
              "      <th>1</th>\n",
              "      <td>0.240825</td>\n",
              "    </tr>\n",
              "  </tbody>\n",
              "</table>\n",
              "</div><br><label><b>dtype:</b> float64</label>"
            ]
          },
          "metadata": {},
          "execution_count": 24
        }
      ]
    },
    {
      "cell_type": "markdown",
      "source": [
        "Доля объектов класса 0 - 0.759175."
      ],
      "metadata": {
        "id": "mZGWFF83voJx"
      }
    },
    {
      "cell_type": "markdown",
      "source": [
        "##Построение базовой модели"
      ],
      "metadata": {
        "id": "ipUNkPwsHX94"
      }
    },
    {
      "cell_type": "markdown",
      "source": [
        "###Первое приближение"
      ],
      "metadata": {
        "id": "KUfJ7ELjHbrJ"
      }
    },
    {
      "cell_type": "markdown",
      "source": [
        "Отберем из набора данных только числовые признаки. Получим обучающую и тестовую выборки при помощи `train_test_split`, используя стратификацию по колонке `label`."
      ],
      "metadata": {
        "id": "Tmp7QoKDvrDz"
      }
    },
    {
      "cell_type": "code",
      "source": [
        "test_size = 0.2\n",
        "random_state = 7\n",
        "stratify = 'label'\n",
        "\n",
        "X = pd.DataFrame(df[df.select_dtypes(include='number').columns].drop(['label'], axis=1))\n",
        "y = pd.DataFrame(df['label'])\n",
        "X_train, X_test, y_train, y_test = train_test_split(X, y, test_size=test_size,\n",
        "                                                          random_state=random_state,\n",
        "                                                          stratify=df[stratify])"
      ],
      "metadata": {
        "id": "Gsz3FgwmvrR1"
      },
      "execution_count": null,
      "outputs": []
    },
    {
      "cell_type": "markdown",
      "source": [
        "Вычислим выборочное среднее колонки fnlwgt тренировочного набора данных."
      ],
      "metadata": {
        "id": "2v6kqEM6wemU"
      }
    },
    {
      "cell_type": "code",
      "source": [
        "X_train['fnlwgt'].mean()"
      ],
      "metadata": {
        "colab": {
          "base_uri": "https://localhost:8080/"
        },
        "id": "EVlAWUWwwZMS",
        "outputId": "15031ed7-6d7b-45f5-85db-7954d53ad956"
      },
      "execution_count": null,
      "outputs": [
        {
          "output_type": "execute_result",
          "data": {
            "text/plain": [
              "189789.851281313"
            ]
          },
          "metadata": {},
          "execution_count": 37
        }
      ]
    },
    {
      "cell_type": "markdown",
      "source": [
        "Обучим модель `KNeighborsClassifier()` с параметрами по умолчанию на тренировочных данных. Оценим на тестовых данных при помощи `f1_score()`."
      ],
      "metadata": {
        "id": "vtcXqIbIxfbN"
      }
    },
    {
      "cell_type": "code",
      "source": [
        "knn = KNeighborsClassifier().fit(X_train, y_train)\n",
        "f1_score(y_test, knn.predict(X_test))"
      ],
      "metadata": {
        "colab": {
          "base_uri": "https://localhost:8080/"
        },
        "id": "LtUYpvgqxhXm",
        "outputId": "9e426538-9fa4-470c-acb0-7f82040fa003"
      },
      "execution_count": null,
      "outputs": [
        {
          "output_type": "execute_result",
          "data": {
            "text/plain": [
              "0.38031088082901554"
            ]
          },
          "metadata": {},
          "execution_count": 38
        }
      ]
    },
    {
      "cell_type": "markdown",
      "source": [
        "Чтобы улучшить показатели модели, нормируем значения признаков, используя `MinMaxScaler()`. Вычислим выборочное среднее колонки `fnlwgt` полученного тренировочного набора данных."
      ],
      "metadata": {
        "id": "dcOMGsaXLst_"
      }
    },
    {
      "cell_type": "code",
      "source": [
        "sc = MinMaxScaler()\n",
        "sc.fit(X_train)\n",
        "X_train_sc = pd.DataFrame(sc.transform(X_train), columns=X_train.columns)\n",
        "X_test_sc = pd.DataFrame(sc.transform(X_test), columns=X_test.columns)\n",
        "X_train_sc['fnlwgt'].mean()"
      ],
      "metadata": {
        "colab": {
          "base_uri": "https://localhost:8080/"
        },
        "id": "dzfhutouymiM",
        "outputId": "18ef85ab-fefe-4a9f-becb-ca18e0742a9e"
      },
      "execution_count": null,
      "outputs": [
        {
          "output_type": "execute_result",
          "data": {
            "text/plain": [
              "0.12055313788274608"
            ]
          },
          "metadata": {},
          "execution_count": 40
        }
      ]
    },
    {
      "cell_type": "markdown",
      "source": [
        "Заново обучим и оценим модель на преобразованных данных, вычислив `f1_score()`."
      ],
      "metadata": {
        "id": "cHs40nWL0Wxp"
      }
    },
    {
      "cell_type": "code",
      "source": [
        "knn_sc = KNeighborsClassifier().fit(X_train_sc, y_train)\n",
        "f1_score(y_test, knn_sc.predict(X_test_sc))"
      ],
      "metadata": {
        "colab": {
          "base_uri": "https://localhost:8080/"
        },
        "id": "sOrd2OvzzXsN",
        "outputId": "8b176c5f-fcd8-48f0-b94a-54f0c8ac67a6"
      },
      "execution_count": null,
      "outputs": [
        {
          "output_type": "execute_result",
          "data": {
            "text/plain": [
              "0.5160390516039052"
            ]
          },
          "metadata": {},
          "execution_count": 41
        }
      ]
    },
    {
      "cell_type": "markdown",
      "source": [
        "Видно, что после линейной нормировки качество выросло."
      ],
      "metadata": {
        "id": "-UssITFrMlgV"
      }
    },
    {
      "cell_type": "markdown",
      "source": [
        "##Работа с нечисловыми признаками"
      ],
      "metadata": {
        "id": "l4vDLXs1Mp77"
      }
    },
    {
      "cell_type": "markdown",
      "source": [
        "###Визуализация"
      ],
      "metadata": {
        "id": "mQ3Z3nPdMxGp"
      }
    },
    {
      "cell_type": "markdown",
      "source": [
        "Вернем в рассмотрение нечисловые признаки (кроме `education` и `marital-status`). Построим гистограммы, иллюстрирующие частоту того или иного значения по каждому нечисловому признаку."
      ],
      "metadata": {
        "id": "0mmLHbR40raE"
      }
    },
    {
      "cell_type": "code",
      "source": [
        "for col in df.select_dtypes(exclude='number').columns:\n",
        "  sns.displot(df[col])"
      ],
      "metadata": {
        "colab": {
          "base_uri": "https://localhost:8080/",
          "height": 1000
        },
        "id": "-Jx0MK0R0s2k",
        "outputId": "c306b0e9-b50c-42c7-f771-c98664ea9fae"
      },
      "execution_count": null,
      "outputs": [
        {
          "output_type": "display_data",
          "data": {
            "text/plain": [
              "<Figure size 500x500 with 1 Axes>"
            ],
            "image/png": "[encoded data removed]"
          },
          "metadata": {}
        },
        {
          "output_type": "display_data",
          "data": {
            "text/plain": [
              "<Figure size 500x500 with 1 Axes>"
            ],
            "image/png": "[encoded data removed]"
          },
          "metadata": {}
        },
        {
          "output_type": "display_data",
          "data": {
            "text/plain": [
              "<Figure size 500x500 with 1 Axes>"
            ],
            "image/png": "[encoded data removed]"
          },
          "metadata": {}
        },
        {
          "output_type": "display_data",
          "data": {
            "text/plain": [
              "<Figure size 500x500 with 1 Axes>"
            ],
            "image/png": "[encoded data removed]"
          },
          "metadata": {}
        },
        {
          "output_type": "display_data",
          "data": {
            "text/plain": [
              "<Figure size 500x500 with 1 Axes>"
            ],
            "image/png": "[encoded data removed]"
          },
          "metadata": {}
        },
        {
          "output_type": "display_data",
          "data": {
            "text/plain": [
              "<Figure size 500x500 with 1 Axes>"
            ],
            "image/png": "[encoded data removed]"
          },
          "metadata": {}
        }
      ]
    },
    {
      "cell_type": "markdown",
      "source": [
        "###Удаление пропущенных значений"
      ],
      "metadata": {
        "id": "19OU48kBNWq7"
      }
    },
    {
      "cell_type": "code",
      "source": [
        "df = df.replace(\"?\", np.nan)\n",
        "df.isnull().any(axis=1).sum()"
      ],
      "metadata": {
        "colab": {
          "base_uri": "https://localhost:8080/"
        },
        "id": "e4khQXuw2NcD",
        "outputId": "039818c3-8476-414a-c59c-cd30cbf4afab"
      },
      "execution_count": null,
      "outputs": [
        {
          "output_type": "execute_result",
          "data": {
            "text/plain": [
              "1914"
            ]
          },
          "metadata": {},
          "execution_count": 69
        }
      ]
    },
    {
      "cell_type": "markdown",
      "source": [
        "В 1914 строк набора данных присутствует хотя бы одно пропущенное значение."
      ],
      "metadata": {
        "id": "-3dtMMG30sn7"
      }
    },
    {
      "cell_type": "markdown",
      "source": [
        "Удалим строки, содеражащие пропуски. Произведем one-hot кодировние нечисловых признаков с помощью `pd.get_dummies(drop_first=True)`."
      ],
      "metadata": {
        "id": "CD6M2YJg3dmi"
      }
    },
    {
      "cell_type": "code",
      "source": [
        "df_one_hot_encoded = df.select_dtypes(exclude='number').dropna()\n",
        "df_one_hot_encoded = pd.get_dummies(df_one_hot_encoded, drop_first=True)\n",
        "df_one_hot_encoded = pd.concat([df.select_dtypes(include='number'), df_one_hot_encoded], axis=1)\n",
        "len(df_one_hot_encoded.columns)"
      ],
      "metadata": {
        "colab": {
          "base_uri": "https://localhost:8080/"
        },
        "id": "nVqRSHi03Wvo",
        "outputId": "75da80ae-34f9-404b-81c3-29ec9864e349"
      },
      "execution_count": null,
      "outputs": [
        {
          "output_type": "execute_result",
          "data": {
            "text/plain": [
              "76"
            ]
          },
          "metadata": {},
          "execution_count": 68
        }
      ]
    },
    {
      "cell_type": "markdown",
      "source": [
        "Используя полученный набор данных, обучим модель классификации. Произведем предсказания для тестовых данных. Вычислите `f1_score()` модели."
      ],
      "metadata": {
        "id": "HvPjZq285mKx"
      }
    },
    {
      "cell_type": "code",
      "source": [
        "X = pd.DataFrame(df_one_hot_encoded.drop(['label'], axis=1))\n",
        "y = pd.DataFrame(df_one_hot_encoded['label'])\n",
        "X_train, X_test, y_train, y_test = train_test_split(X, y, test_size=test_size,\n",
        "                                                          random_state=random_state,\n",
        "                                                          stratify=df[stratify])\n",
        "\n",
        "sc.fit(X_train)\n",
        "X_train_sc = pd.DataFrame(sc.transform(X_train), columns=X_train.columns)\n",
        "X_test_sc = pd.DataFrame(sc.transform(X_test), columns=X_test.columns)\n",
        "\n",
        "knn_sc = KNeighborsClassifier().fit(X_train_sc, y_train)\n",
        "f1_score(y_test, knn_sc.predict(X_test_sc))"
      ],
      "metadata": {
        "colab": {
          "base_uri": "https://localhost:8080/"
        },
        "id": "3o6oQE2h4JX9",
        "outputId": "fb085be6-2bb9-4919-db0a-090a683bf21b"
      },
      "execution_count": null,
      "outputs": [
        {
          "output_type": "execute_result",
          "data": {
            "text/plain": [
              "0.6206896551724138"
            ]
          },
          "metadata": {},
          "execution_count": 53
        }
      ]
    },
    {
      "cell_type": "markdown",
      "source": [
        "Точность модели увеличилась по сравнению с моделью, которая использовала только числовые признаки."
      ],
      "metadata": {
        "id": "uS3uJZu3OY-0"
      }
    },
    {
      "cell_type": "markdown",
      "source": [
        "###Заполнение пропущенных значений"
      ],
      "metadata": {
        "id": "5pZG3GyXTLBn"
      }
    },
    {
      "cell_type": "markdown",
      "source": [
        "Заполним пропуски самым часто встречающимся значением в рамках столбца. Выполним предобработку данных и обучим модель."
      ],
      "metadata": {
        "id": "B4kWHNWZ5qrJ"
      }
    },
    {
      "cell_type": "code",
      "source": [
        "for col in df.columns:\n",
        "    df[col] = df[col].fillna(df[col].mode()[0])\n",
        "df_one_hot_encoded = pd.get_dummies(df, drop_first=True)\n",
        "X = pd.DataFrame(df_one_hot_encoded.drop(['label'], axis=1))\n",
        "y = pd.DataFrame(df_one_hot_encoded['label'])\n",
        "X_train, X_test, y_train, y_test = train_test_split(X, y, test_size=test_size,\n",
        "                                                          random_state=random_state,\n",
        "                                                          stratify=df[stratify])\n",
        "\n",
        "sc.fit(X_train)\n",
        "X_train_sc = pd.DataFrame(sc.transform(X_train), columns=X_train.columns)\n",
        "X_test_sc = pd.DataFrame(sc.transform(X_test), columns=X_test.columns)\n",
        "\n",
        "knn_sc = KNeighborsClassifier().fit(X_train_sc, y_train)\n",
        "f1_score(y_test, knn_sc.predict(X_test_sc))"
      ],
      "metadata": {
        "colab": {
          "base_uri": "https://localhost:8080/"
        },
        "id": "2T9DAAB85jH4",
        "outputId": "c26bf7b9-3074-4b5b-f09f-2ab82ee61afa"
      },
      "execution_count": null,
      "outputs": [
        {
          "output_type": "execute_result",
          "data": {
            "text/plain": [
              "0.6098692534795445"
            ]
          },
          "metadata": {},
          "execution_count": 58
        }
      ]
    }
  ]
}