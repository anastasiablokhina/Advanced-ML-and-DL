{
  "nbformat": 4,
  "nbformat_minor": 0,
  "metadata": {
    "colab": {
      "provenance": [],
      "authorship_tag": "ABX9TyNRLIUSRfWWtEaQcJePHKqQ"
    },
    "kernelspec": {
      "name": "python3",
      "display_name": "Python 3"
    },
    "language_info": {
      "name": "python"
    }
  },
  "cells": [
    {
      "cell_type": "code",
      "execution_count": null,
      "metadata": {
        "id": "LJaRCaF5oWpC"
      },
      "outputs": [],
      "source": [
        "import pandas as pd\n",
        "import numpy as np\n",
        "import seaborn as sns\n",
        "import matplotlib.pyplot as plt\n",
        "from sklearn.model_selection import train_test_split\n",
        "from sklearn.decomposition import PCA\n",
        "from sklearn.linear_model import LinearRegression\n",
        "from sklearn.metrics import r2_score\n",
        "from sklearn.preprocessing import StandardScaler\n",
        "from sklearn.preprocessing import MinMaxScaler\n",
        "from sklearn.feature_selection import RFECV"
      ]
    },
    {
      "cell_type": "markdown",
      "source": [
        "#Задание 1"
      ],
      "metadata": {
        "id": "GljzN0P22r2F"
      }
    },
    {
      "cell_type": "markdown",
      "source": [
        "Создаем из данных таблицы task.csv и подгружаем его"
      ],
      "metadata": {
        "id": "pdKeRbmeuDQr"
      }
    },
    {
      "cell_type": "code",
      "source": [
        "df = pd.read_csv('/content/task.csv')\n",
        "df"
      ],
      "metadata": {
        "id": "jiH_RIGUokDm",
        "colab": {
          "base_uri": "https://localhost:8080/",
          "height": 363
        },
        "outputId": "8bdbf2e6-ccc9-4593-a92a-66a617476338"
      },
      "execution_count": null,
      "outputs": [
        {
          "output_type": "execute_result",
          "data": {
            "text/plain": [
              "   id   X   Y\n",
              "0   1   4  10\n",
              "1   2  22  41\n",
              "2   3  20  36\n",
              "3   4   7  17\n",
              "4   5  13  31\n",
              "5   6  12  35\n",
              "6   7  17  47\n",
              "7   8   3  10\n",
              "8   9   1   5\n",
              "9  10  21  41"
            ],
            "text/html": [
              "\n",
              "  <div id=\"df-4ef7c85c-dfbd-4dd1-8b3c-29afc936fb25\" class=\"colab-df-container\">\n",
              "    <div>\n",
              "<style scoped>\n",
              "    .dataframe tbody tr th:only-of-type {\n",
              "        vertical-align: middle;\n",
              "    }\n",
              "\n",
              "    .dataframe tbody tr th {\n",
              "        vertical-align: top;\n",
              "    }\n",
              "\n",
              "    .dataframe thead th {\n",
              "        text-align: right;\n",
              "    }\n",
              "</style>\n",
              "<table border=\"1\" class=\"dataframe\">\n",
              "  <thead>\n",
              "    <tr style=\"text-align: right;\">\n",
              "      <th></th>\n",
              "      <th>id</th>\n",
              "      <th>X</th>\n",
              "      <th>Y</th>\n",
              "    </tr>\n",
              "  </thead>\n",
              "  <tbody>\n",
              "    <tr>\n",
              "      <th>0</th>\n",
              "      <td>1</td>\n",
              "      <td>4</td>\n",
              "      <td>10</td>\n",
              "    </tr>\n",
              "    <tr>\n",
              "      <th>1</th>\n",
              "      <td>2</td>\n",
              "      <td>22</td>\n",
              "      <td>41</td>\n",
              "    </tr>\n",
              "    <tr>\n",
              "      <th>2</th>\n",
              "      <td>3</td>\n",
              "      <td>20</td>\n",
              "      <td>36</td>\n",
              "    </tr>\n",
              "    <tr>\n",
              "      <th>3</th>\n",
              "      <td>4</td>\n",
              "      <td>7</td>\n",
              "      <td>17</td>\n",
              "    </tr>\n",
              "    <tr>\n",
              "      <th>4</th>\n",
              "      <td>5</td>\n",
              "      <td>13</td>\n",
              "      <td>31</td>\n",
              "    </tr>\n",
              "    <tr>\n",
              "      <th>5</th>\n",
              "      <td>6</td>\n",
              "      <td>12</td>\n",
              "      <td>35</td>\n",
              "    </tr>\n",
              "    <tr>\n",
              "      <th>6</th>\n",
              "      <td>7</td>\n",
              "      <td>17</td>\n",
              "      <td>47</td>\n",
              "    </tr>\n",
              "    <tr>\n",
              "      <th>7</th>\n",
              "      <td>8</td>\n",
              "      <td>3</td>\n",
              "      <td>10</td>\n",
              "    </tr>\n",
              "    <tr>\n",
              "      <th>8</th>\n",
              "      <td>9</td>\n",
              "      <td>1</td>\n",
              "      <td>5</td>\n",
              "    </tr>\n",
              "    <tr>\n",
              "      <th>9</th>\n",
              "      <td>10</td>\n",
              "      <td>21</td>\n",
              "      <td>41</td>\n",
              "    </tr>\n",
              "  </tbody>\n",
              "</table>\n",
              "</div>\n",
              "    <div class=\"colab-df-buttons\">\n",
              "\n",
              "  <div class=\"colab-df-container\">\n",
              "    <button class=\"colab-df-convert\" onclick=\"convertToInteractive('df-4ef7c85c-dfbd-4dd1-8b3c-29afc936fb25')\"\n",
              "            title=\"Convert this dataframe to an interactive table.\"\n",
              "            style=\"display:none;\">\n",
              "\n",
              "  <svg xmlns=\"http://www.w3.org/2000/svg\" height=\"24px\" viewBox=\"0 -960 960 960\">\n",
              "    <path d=\"M120-120v-720h720v720H120Zm60-500h600v-160H180v160Zm220 220h160v-160H400v160Zm0 220h160v-160H400v160ZM180-400h160v-160H180v160Zm440 0h160v-160H620v160ZM180-180h160v-160H180v160Zm440 0h160v-160H620v160Z\"/>\n",
              "  </svg>\n",
              "    </button>\n",
              "\n",
              "  <style>\n",
              "    .colab-df-container {\n",
              "      display:flex;\n",
              "      gap: 12px;\n",
              "    }\n",
              "\n",
              "    .colab-df-convert {\n",
              "      background-color: #E8F0FE;\n",
              "      border: none;\n",
              "      border-radius: 50%;\n",
              "      cursor: pointer;\n",
              "      display: none;\n",
              "      fill: #1967D2;\n",
              "      height: 32px;\n",
              "      padding: 0 0 0 0;\n",
              "      width: 32px;\n",
              "    }\n",
              "\n",
              "    .colab-df-convert:hover {\n",
              "      background-color: #E2EBFA;\n",
              "      box-shadow: 0px 1px 2px rgba(60, 64, 67, 0.3), 0px 1px 3px 1px rgba(60, 64, 67, 0.15);\n",
              "      fill: #174EA6;\n",
              "    }\n",
              "\n",
              "    .colab-df-buttons div {\n",
              "      margin-bottom: 4px;\n",
              "    }\n",
              "\n",
              "    [theme=dark] .colab-df-convert {\n",
              "      background-color: #3B4455;\n",
              "      fill: #D2E3FC;\n",
              "    }\n",
              "\n",
              "    [theme=dark] .colab-df-convert:hover {\n",
              "      background-color: #434B5C;\n",
              "      box-shadow: 0px 1px 3px 1px rgba(0, 0, 0, 0.15);\n",
              "      filter: drop-shadow(0px 1px 2px rgba(0, 0, 0, 0.3));\n",
              "      fill: #FFFFFF;\n",
              "    }\n",
              "  </style>\n",
              "\n",
              "    <script>\n",
              "      const buttonEl =\n",
              "        document.querySelector('#df-4ef7c85c-dfbd-4dd1-8b3c-29afc936fb25 button.colab-df-convert');\n",
              "      buttonEl.style.display =\n",
              "        google.colab.kernel.accessAllowed ? 'block' : 'none';\n",
              "\n",
              "      async function convertToInteractive(key) {\n",
              "        const element = document.querySelector('#df-4ef7c85c-dfbd-4dd1-8b3c-29afc936fb25');\n",
              "        const dataTable =\n",
              "          await google.colab.kernel.invokeFunction('convertToInteractive',\n",
              "                                                    [key], {});\n",
              "        if (!dataTable) return;\n",
              "\n",
              "        const docLinkHtml = 'Like what you see? Visit the ' +\n",
              "          '<a target=\"_blank\" href=https://colab.research.google.com/notebooks/data_table.ipynb>data table notebook</a>'\n",
              "          + ' to learn more about interactive tables.';\n",
              "        element.innerHTML = '';\n",
              "        dataTable['output_type'] = 'display_data';\n",
              "        await google.colab.output.renderOutput(dataTable, element);\n",
              "        const docLink = document.createElement('div');\n",
              "        docLink.innerHTML = docLinkHtml;\n",
              "        element.appendChild(docLink);\n",
              "      }\n",
              "    </script>\n",
              "  </div>\n",
              "\n",
              "\n",
              "<div id=\"df-4776cc7e-5e4b-4d33-a6c2-e0998892e02f\">\n",
              "  <button class=\"colab-df-quickchart\" onclick=\"quickchart('df-4776cc7e-5e4b-4d33-a6c2-e0998892e02f')\"\n",
              "            title=\"Suggest charts\"\n",
              "            style=\"display:none;\">\n",
              "\n",
              "<svg xmlns=\"http://www.w3.org/2000/svg\" height=\"24px\"viewBox=\"0 0 24 24\"\n",
              "     width=\"24px\">\n",
              "    <g>\n",
              "        <path d=\"M19 3H5c-1.1 0-2 .9-2 2v14c0 1.1.9 2 2 2h14c1.1 0 2-.9 2-2V5c0-1.1-.9-2-2-2zM9 17H7v-7h2v7zm4 0h-2V7h2v10zm4 0h-2v-4h2v4z\"/>\n",
              "    </g>\n",
              "</svg>\n",
              "  </button>\n",
              "\n",
              "<style>\n",
              "  .colab-df-quickchart {\n",
              "      --bg-color: #E8F0FE;\n",
              "      --fill-color: #1967D2;\n",
              "      --hover-bg-color: #E2EBFA;\n",
              "      --hover-fill-color: #174EA6;\n",
              "      --disabled-fill-color: #AAA;\n",
              "      --disabled-bg-color: #DDD;\n",
              "  }\n",
              "\n",
              "  [theme=dark] .colab-df-quickchart {\n",
              "      --bg-color: #3B4455;\n",
              "      --fill-color: #D2E3FC;\n",
              "      --hover-bg-color: #434B5C;\n",
              "      --hover-fill-color: #FFFFFF;\n",
              "      --disabled-bg-color: #3B4455;\n",
              "      --disabled-fill-color: #666;\n",
              "  }\n",
              "\n",
              "  .colab-df-quickchart {\n",
              "    background-color: var(--bg-color);\n",
              "    border: none;\n",
              "    border-radius: 50%;\n",
              "    cursor: pointer;\n",
              "    display: none;\n",
              "    fill: var(--fill-color);\n",
              "    height: 32px;\n",
              "    padding: 0;\n",
              "    width: 32px;\n",
              "  }\n",
              "\n",
              "  .colab-df-quickchart:hover {\n",
              "    background-color: var(--hover-bg-color);\n",
              "    box-shadow: 0 1px 2px rgba(60, 64, 67, 0.3), 0 1px 3px 1px rgba(60, 64, 67, 0.15);\n",
              "    fill: var(--button-hover-fill-color);\n",
              "  }\n",
              "\n",
              "  .colab-df-quickchart-complete:disabled,\n",
              "  .colab-df-quickchart-complete:disabled:hover {\n",
              "    background-color: var(--disabled-bg-color);\n",
              "    fill: var(--disabled-fill-color);\n",
              "    box-shadow: none;\n",
              "  }\n",
              "\n",
              "  .colab-df-spinner {\n",
              "    border: 2px solid var(--fill-color);\n",
              "    border-color: transparent;\n",
              "    border-bottom-color: var(--fill-color);\n",
              "    animation:\n",
              "      spin 1s steps(1) infinite;\n",
              "  }\n",
              "\n",
              "  @keyframes spin {\n",
              "    0% {\n",
              "      border-color: transparent;\n",
              "      border-bottom-color: var(--fill-color);\n",
              "      border-left-color: var(--fill-color);\n",
              "    }\n",
              "    20% {\n",
              "      border-color: transparent;\n",
              "      border-left-color: var(--fill-color);\n",
              "      border-top-color: var(--fill-color);\n",
              "    }\n",
              "    30% {\n",
              "      border-color: transparent;\n",
              "      border-left-color: var(--fill-color);\n",
              "      border-top-color: var(--fill-color);\n",
              "      border-right-color: var(--fill-color);\n",
              "    }\n",
              "    40% {\n",
              "      border-color: transparent;\n",
              "      border-right-color: var(--fill-color);\n",
              "      border-top-color: var(--fill-color);\n",
              "    }\n",
              "    60% {\n",
              "      border-color: transparent;\n",
              "      border-right-color: var(--fill-color);\n",
              "    }\n",
              "    80% {\n",
              "      border-color: transparent;\n",
              "      border-right-color: var(--fill-color);\n",
              "      border-bottom-color: var(--fill-color);\n",
              "    }\n",
              "    90% {\n",
              "      border-color: transparent;\n",
              "      border-bottom-color: var(--fill-color);\n",
              "    }\n",
              "  }\n",
              "</style>\n",
              "\n",
              "  <script>\n",
              "    async function quickchart(key) {\n",
              "      const quickchartButtonEl =\n",
              "        document.querySelector('#' + key + ' button');\n",
              "      quickchartButtonEl.disabled = true;  // To prevent multiple clicks.\n",
              "      quickchartButtonEl.classList.add('colab-df-spinner');\n",
              "      try {\n",
              "        const charts = await google.colab.kernel.invokeFunction(\n",
              "            'suggestCharts', [key], {});\n",
              "      } catch (error) {\n",
              "        console.error('Error during call to suggestCharts:', error);\n",
              "      }\n",
              "      quickchartButtonEl.classList.remove('colab-df-spinner');\n",
              "      quickchartButtonEl.classList.add('colab-df-quickchart-complete');\n",
              "    }\n",
              "    (() => {\n",
              "      let quickchartButtonEl =\n",
              "        document.querySelector('#df-4776cc7e-5e4b-4d33-a6c2-e0998892e02f button');\n",
              "      quickchartButtonEl.style.display =\n",
              "        google.colab.kernel.accessAllowed ? 'block' : 'none';\n",
              "    })();\n",
              "  </script>\n",
              "</div>\n",
              "    </div>\n",
              "  </div>\n"
            ],
            "application/vnd.google.colaboratory.intrinsic+json": {
              "type": "dataframe",
              "variable_name": "df",
              "summary": "{\n  \"name\": \"df\",\n  \"rows\": 10,\n  \"fields\": [\n    {\n      \"column\": \"id\",\n      \"properties\": {\n        \"dtype\": \"number\",\n        \"std\": 3,\n        \"min\": 1,\n        \"max\": 10,\n        \"num_unique_values\": 10,\n        \"samples\": [\n          9,\n          2,\n          6\n        ],\n        \"semantic_type\": \"\",\n        \"description\": \"\"\n      }\n    },\n    {\n      \"column\": \"X\",\n      \"properties\": {\n        \"dtype\": \"number\",\n        \"std\": 7,\n        \"min\": 1,\n        \"max\": 22,\n        \"num_unique_values\": 10,\n        \"samples\": [\n          1,\n          22,\n          12\n        ],\n        \"semantic_type\": \"\",\n        \"description\": \"\"\n      }\n    },\n    {\n      \"column\": \"Y\",\n      \"properties\": {\n        \"dtype\": \"number\",\n        \"std\": 15,\n        \"min\": 5,\n        \"max\": 47,\n        \"num_unique_values\": 8,\n        \"samples\": [\n          41,\n          35,\n          10\n        ],\n        \"semantic_type\": \"\",\n        \"description\": \"\"\n      }\n    }\n  ]\n}"
            }
          },
          "metadata": {},
          "execution_count": 3
        }
      ]
    },
    {
      "cell_type": "markdown",
      "source": [
        "Найдем выборочное среднее X"
      ],
      "metadata": {
        "id": "7wuBbI1uuPmO"
      }
    },
    {
      "cell_type": "code",
      "source": [
        "float(df['X'].mean())"
      ],
      "metadata": {
        "colab": {
          "base_uri": "https://localhost:8080/"
        },
        "id": "R5aVlpSUpBF0",
        "outputId": "f48fc59b-ca56-406a-a220-a4eb9f893a71"
      },
      "execution_count": null,
      "outputs": [
        {
          "output_type": "execute_result",
          "data": {
            "text/plain": [
              "12.0"
            ]
          },
          "metadata": {},
          "execution_count": 6
        }
      ]
    },
    {
      "cell_type": "markdown",
      "source": [
        "Найдем выборочное среднее Y"
      ],
      "metadata": {
        "id": "x7CGCMv6uYug"
      }
    },
    {
      "cell_type": "code",
      "source": [
        "float(df['Y'].mean())"
      ],
      "metadata": {
        "colab": {
          "base_uri": "https://localhost:8080/"
        },
        "id": "3VYbVVzrpHC1",
        "outputId": "e1316dd4-54fe-4636-82db-ce3c61efd299"
      },
      "execution_count": null,
      "outputs": [
        {
          "output_type": "execute_result",
          "data": {
            "text/plain": [
              "27.3"
            ]
          },
          "metadata": {},
          "execution_count": 7
        }
      ]
    },
    {
      "cell_type": "markdown",
      "source": [
        "Обучим модель линейной регрессии"
      ],
      "metadata": {
        "id": "QeeQo5iVHOmC"
      }
    },
    {
      "cell_type": "code",
      "source": [
        "reg = LinearRegression().fit(df[['X']], df[['Y']])"
      ],
      "metadata": {
        "id": "Kq2n6OjupTIn"
      },
      "execution_count": null,
      "outputs": []
    },
    {
      "cell_type": "markdown",
      "source": [
        "Определим коэффициент $\\theta_1$"
      ],
      "metadata": {
        "id": "do_DFjw1udS7"
      }
    },
    {
      "cell_type": "code",
      "source": [
        "reg.coef_[0][0]"
      ],
      "metadata": {
        "colab": {
          "base_uri": "https://localhost:8080/"
        },
        "id": "2ov6Ypc3pbbl",
        "outputId": "75163838-a4cf-4414-fdc7-f26cba1179cd"
      },
      "execution_count": null,
      "outputs": [
        {
          "output_type": "execute_result",
          "data": {
            "text/plain": [
              "1.8202846975088967"
            ]
          },
          "metadata": {},
          "execution_count": 12
        }
      ]
    },
    {
      "cell_type": "markdown",
      "source": [
        "Определим коэффициент $\\theta_0$"
      ],
      "metadata": {
        "id": "AQEmh0EQuiBV"
      }
    },
    {
      "cell_type": "code",
      "source": [
        "reg.intercept_[0]"
      ],
      "metadata": {
        "colab": {
          "base_uri": "https://localhost:8080/"
        },
        "id": "7VDSUYkJpYhc",
        "outputId": "3df613ed-997f-42fc-ea59-13bb6f54772a"
      },
      "execution_count": null,
      "outputs": [
        {
          "output_type": "execute_result",
          "data": {
            "text/plain": [
              "5.456583629893242"
            ]
          },
          "metadata": {},
          "execution_count": 13
        }
      ]
    },
    {
      "cell_type": "markdown",
      "source": [
        "Вычислим $R^2$ статистику"
      ],
      "metadata": {
        "id": "UNfvNd32u_JU"
      }
    },
    {
      "cell_type": "code",
      "source": [
        "y = reg.predict(df[['X']])\n",
        "r2 = r2_score(df.Y, y)\n",
        "r2"
      ],
      "metadata": {
        "colab": {
          "base_uri": "https://localhost:8080/"
        },
        "id": "UrS-HQ-4plWd",
        "outputId": "99d28aa6-9032-47d6-b8e2-df4eb02763ad"
      },
      "execution_count": null,
      "outputs": [
        {
          "output_type": "execute_result",
          "data": {
            "text/plain": [
              "0.8808245804605275"
            ]
          },
          "metadata": {},
          "execution_count": 14
        }
      ]
    },
    {
      "cell_type": "markdown",
      "source": [
        "#Задание 2"
      ],
      "metadata": {
        "id": "RsTRNkXU2vnC"
      }
    },
    {
      "cell_type": "markdown",
      "source": [
        "Дан набор данных о семи различных типах рыб, продаваемых в некоторой рыбной лавке. Цель заключается в том, чтобы предсказать массу рыбы по каким-то косвенным признакам, известным о рыбе."
      ],
      "metadata": {
        "id": "NHMn15qcLLyQ"
      }
    },
    {
      "cell_type": "code",
      "source": [
        "df = pd.read_csv('/content/fish_train.csv')\n",
        "X = pd.DataFrame(df.drop(['Weight'], axis=1))\n",
        "y = pd.DataFrame(df['Weight'])"
      ],
      "metadata": {
        "id": "QsEaAlgs2xO6"
      },
      "execution_count": null,
      "outputs": []
    },
    {
      "cell_type": "code",
      "source": [
        "X_train, X_test, y_train, y_test = train_test_split(X, y, test_size=0.2, random_state=23, stratify=df['Species'])"
      ],
      "metadata": {
        "id": "ZfBSVFFJ47f6"
      },
      "execution_count": null,
      "outputs": []
    },
    {
      "cell_type": "markdown",
      "source": [
        "Вычислим выборочное среднее колонки `Width` полученной тренировочной выборки"
      ],
      "metadata": {
        "id": "3nnw5dha6WMC"
      }
    },
    {
      "cell_type": "code",
      "source": [
        "X_train['Width'].mean()"
      ],
      "metadata": {
        "colab": {
          "base_uri": "https://localhost:8080/"
        },
        "id": "XA7mMbUt6Ycz",
        "outputId": "a0c21c1e-6acd-49a7-b357-5f157bb3b5e8"
      },
      "execution_count": null,
      "outputs": [
        {
          "output_type": "execute_result",
          "data": {
            "text/plain": [
              "4.448602105263158"
            ]
          },
          "metadata": {},
          "execution_count": 18
        }
      ]
    },
    {
      "cell_type": "markdown",
      "source": [
        "##Построение базовой модели"
      ],
      "metadata": {
        "id": "OW2-jtG661_U"
      }
    },
    {
      "cell_type": "markdown",
      "source": [
        "Избавимся от категориальных признаков"
      ],
      "metadata": {
        "id": "AihzC-twMaKg"
      }
    },
    {
      "cell_type": "code",
      "source": [
        "X_train = X_train.drop(['Species'], axis=1)\n",
        "X_test = X_test.drop(['Species'], axis=1)"
      ],
      "metadata": {
        "id": "iEBFwPMY6488"
      },
      "execution_count": null,
      "outputs": []
    },
    {
      "cell_type": "markdown",
      "source": [
        "Выполним предсказания для тестового набора данных и оценим модель при помощи метрики $r^2$."
      ],
      "metadata": {
        "id": "oMJw4mLGRPVR"
      }
    },
    {
      "cell_type": "code",
      "source": [
        "reg = LinearRegression().fit(X_train, y_train)\n",
        "y = reg.predict(X_test)\n",
        "r2 = r2_score(y_test, y)\n",
        "r2"
      ],
      "metadata": {
        "colab": {
          "base_uri": "https://localhost:8080/"
        },
        "id": "Pkhhpik-8QKm",
        "outputId": "db083320-c278-4864-86ff-d98d0e9c322b"
      },
      "execution_count": null,
      "outputs": [
        {
          "output_type": "execute_result",
          "data": {
            "text/plain": [
              "0.8885408749541969"
            ]
          },
          "metadata": {},
          "execution_count": 21
        }
      ]
    },
    {
      "cell_type": "markdown",
      "source": [
        "##Добавление предварительной обработки признаков"
      ],
      "metadata": {
        "id": "z1T0mxU5Rxp9"
      }
    },
    {
      "cell_type": "markdown",
      "source": [
        "###Использование PCA"
      ],
      "metadata": {
        "id": "S-wiVKK4UULu"
      }
    },
    {
      "cell_type": "markdown",
      "source": [
        "Выявим наиболее коррелированные признаки."
      ],
      "metadata": {
        "id": "RBq1QPLw_O4C"
      }
    },
    {
      "cell_type": "code",
      "source": [
        "corr_matrix = X_train.corr()\n",
        "sns.heatmap(corr_matrix, annot=True, cmap='RdBu_r', center=0)"
      ],
      "metadata": {
        "colab": {
          "base_uri": "https://localhost:8080/",
          "height": 452
        },
        "id": "V-JoCA5N9015",
        "outputId": "0aea0d59-6bca-4d23-c13c-39d37faedf4e"
      },
      "execution_count": null,
      "outputs": [
        {
          "output_type": "execute_result",
          "data": {
            "text/plain": [
              "<Axes: >"
            ]
          },
          "metadata": {},
          "execution_count": 42
        },
        {
          "output_type": "display_data",
          "data": {
            "text/plain": [
              "<Figure size 640x480 with 2 Axes>"
            ],
            "image/png": "[encoded data removed]"
          },
          "metadata": {}
        }
      ]
    },
    {
      "cell_type": "markdown",
      "source": [
        "Такими признаками являются `Length1`, `Length2`, `Length3`"
      ],
      "metadata": {
        "id": "LOxVQ7_4R9q0"
      }
    },
    {
      "cell_type": "markdown",
      "source": [
        "Обучим модель PCA для трех этих признаков на тренировочных данных."
      ],
      "metadata": {
        "id": "WaYB9sQz_SGS"
      }
    },
    {
      "cell_type": "code",
      "source": [
        "pca = PCA(n_components=3, svd_solver='full')\n",
        "pca.fit(X_train[['Length1', 'Length2', 'Length3']])\n",
        "explained_variance = np.round(np.cumsum(pca.explained_variance_ratio_),3)\n",
        "explained_variance"
      ],
      "metadata": {
        "colab": {
          "base_uri": "https://localhost:8080/"
        },
        "id": "-eZ4MDfP_Lyi",
        "outputId": "5a9de5ab-ca7c-4824-ee59-24d4fc037151"
      },
      "execution_count": null,
      "outputs": [
        {
          "output_type": "execute_result",
          "data": {
            "text/plain": [
              "array([0.996, 1.   , 1.   ])"
            ]
          },
          "metadata": {},
          "execution_count": 43
        }
      ]
    },
    {
      "cell_type": "markdown",
      "source": [
        "Доля объясненной дисперсии при использовании только первой главной компоненты - 0.996. Заменим тройку наиболее коррелированных признаков на признак `Lengths`, значения которого совпадают со счетами первой главной компоненты."
      ],
      "metadata": {
        "id": "VE_ZO2M2Sedj"
      }
    },
    {
      "cell_type": "code",
      "source": [
        "X_train['Lengths'] = pca.transform(X_train[['Length1', 'Length2', 'Length3']])[:, 0]\n",
        "X_train = X_train.drop(['Length1', 'Length2', 'Length3'], axis=1)"
      ],
      "metadata": {
        "id": "7dAGoVlqAgc0"
      },
      "execution_count": null,
      "outputs": []
    },
    {
      "cell_type": "code",
      "source": [
        "X_test['Lengths'] = pca.transform(X_test[['Length1', 'Length2', 'Length3']])[:, 0]\n",
        "X_test = X_test.drop(['Length1', 'Length2', 'Length3'], axis=1)"
      ],
      "metadata": {
        "id": "aA3yj7A8C-Qt"
      },
      "execution_count": null,
      "outputs": []
    },
    {
      "cell_type": "markdown",
      "source": [
        "Обучим модель линейной регрессии."
      ],
      "metadata": {
        "id": "JKhtYLOFAexQ"
      }
    },
    {
      "cell_type": "code",
      "source": [
        "reg = LinearRegression().fit(X_train, y_train)\n",
        "y = reg.predict(X_test)\n",
        "r2 = r2_score(y_test, y)\n",
        "r2"
      ],
      "metadata": {
        "colab": {
          "base_uri": "https://localhost:8080/"
        },
        "id": "v6cD76ZgB54n",
        "outputId": "e5bcc029-299d-4830-844c-565fb0d737d4"
      },
      "execution_count": null,
      "outputs": [
        {
          "output_type": "execute_result",
          "data": {
            "text/plain": [
              "0.8925481416058357"
            ]
          },
          "metadata": {},
          "execution_count": 48
        }
      ]
    },
    {
      "cell_type": "markdown",
      "source": [
        "Метрика $r^2$ незначительно улучшилась."
      ],
      "metadata": {
        "id": "x5Y4w8cgTOKI"
      }
    },
    {
      "cell_type": "markdown",
      "source": [
        "###Модификация признаков"
      ],
      "metadata": {
        "id": "3iCfFgw3Ucyf"
      }
    },
    {
      "cell_type": "markdown",
      "source": [
        "Возведем в куб значения признаков `Width`, `Height`, `Lengths`, чтобы получить более линейную зависимость."
      ],
      "metadata": {
        "id": "n41xa47vDbAF"
      }
    },
    {
      "cell_type": "code",
      "source": [
        "X_train['Width'] = X_train['Width'] ** 3\n",
        "X_train['Height'] = X_train['Height'] ** 3\n",
        "X_train['Lengths'] = X_train['Lengths'] ** 3\n",
        "X_test['Width'] = X_test['Width'] ** 3\n",
        "X_test['Height'] = X_test['Height'] ** 3\n",
        "X_test['Lengths'] = X_test['Lengths'] ** 3"
      ],
      "metadata": {
        "id": "mvS7iwu_DaEH"
      },
      "execution_count": null,
      "outputs": []
    },
    {
      "cell_type": "markdown",
      "source": [
        "Найдем выборочное среднее колонки `Width` тренировочного набора данных после возведения в куб."
      ],
      "metadata": {
        "id": "5SJu1DWGT6JH"
      }
    },
    {
      "cell_type": "code",
      "source": [
        "X_train['Width'].mean()"
      ],
      "metadata": {
        "colab": {
          "base_uri": "https://localhost:8080/"
        },
        "id": "HO3jB3CxD6mT",
        "outputId": "5033026c-9839-4c94-d226-f6a96617df08"
      },
      "execution_count": null,
      "outputs": [
        {
          "output_type": "execute_result",
          "data": {
            "text/plain": [
              "124.41840117423388"
            ]
          },
          "metadata": {},
          "execution_count": 50
        }
      ]
    },
    {
      "cell_type": "markdown",
      "source": [
        "Рассмотрим зависимость `Weight` от `Width` после преобразования."
      ],
      "metadata": {
        "id": "HYaMbS9RFmso"
      }
    },
    {
      "cell_type": "code",
      "source": [
        "plt.figure(figsize=(8, 6))\n",
        "plt.scatter(X_train['Width'], y_train)\n",
        "plt.xlabel('Width')\n",
        "plt.ylabel('Weight')\n",
        "plt.show()"
      ],
      "metadata": {
        "colab": {
          "base_uri": "https://localhost:8080/",
          "height": 542
        },
        "id": "ved1-eM1E-mn",
        "outputId": "a99edba7-b08e-4c18-f587-9a834a51641a"
      },
      "execution_count": null,
      "outputs": [
        {
          "output_type": "display_data",
          "data": {
            "text/plain": [
              "<Figure size 800x600 with 1 Axes>"
            ],
            "image/png": "[encoded data removed]"
          },
          "metadata": {}
        }
      ]
    },
    {
      "cell_type": "markdown",
      "source": [
        "Обучим модель линейнной регрессии."
      ],
      "metadata": {
        "id": "olY5w2hoForb"
      }
    },
    {
      "cell_type": "code",
      "source": [
        "reg = LinearRegression().fit(X_train, y_train)\n",
        "y = reg.predict(X_test)\n",
        "r2 = r2_score(y_test, y)\n",
        "r2"
      ],
      "metadata": {
        "colab": {
          "base_uri": "https://localhost:8080/"
        },
        "id": "X2aIiU9pFbAt",
        "outputId": "6bac1d58-bc52-48b0-919a-639ab97ba3a0"
      },
      "execution_count": null,
      "outputs": [
        {
          "output_type": "execute_result",
          "data": {
            "text/plain": [
              "0.9452890309259312"
            ]
          },
          "metadata": {},
          "execution_count": 55
        }
      ]
    },
    {
      "cell_type": "markdown",
      "source": [
        "Метрика $r^2$ значительно улучшилась."
      ],
      "metadata": {
        "id": "zPi8_4D3UMzk"
      }
    },
    {
      "cell_type": "markdown",
      "source": [
        "###Добавление категориальных признаков"
      ],
      "metadata": {
        "id": "aaS0SHCkUiOl"
      }
    },
    {
      "cell_type": "markdown",
      "source": [
        "Добавим к набору данных, полученному на предыдущем этапе, ранее исключенные категориальные признаки, предварительно произведя one-hot кодирование при помощи `pd.get_dummies()`."
      ],
      "metadata": {
        "id": "kd_G2lDSFs9T"
      }
    },
    {
      "cell_type": "code",
      "source": [
        "X_dummy = pd.get_dummies(X['Species'])"
      ],
      "metadata": {
        "id": "A50VcgeHFxsN"
      },
      "execution_count": null,
      "outputs": []
    },
    {
      "cell_type": "code",
      "source": [
        "X_train_dummy, X_test_dummy = train_test_split(X_dummy, test_size=0.2, random_state=23, stratify=df['Species'])"
      ],
      "metadata": {
        "id": "1vFfMPwqHG1L"
      },
      "execution_count": null,
      "outputs": []
    },
    {
      "cell_type": "code",
      "source": [
        "X_train_with_species = pd.concat([X_train, X_train_dummy], axis=1)\n",
        "X_test_with_species = pd.concat([X_test, X_test_dummy], axis=1)"
      ],
      "metadata": {
        "id": "R5bhYMCKHtgr"
      },
      "execution_count": null,
      "outputs": []
    },
    {
      "cell_type": "markdown",
      "source": [
        "Обучим модель регрессии. Рассчитаем $r^2$ полученной модели."
      ],
      "metadata": {
        "id": "HQDboLvzUtXY"
      }
    },
    {
      "cell_type": "code",
      "source": [
        "reg = LinearRegression().fit(X_train_with_species, y_train)\n",
        "y = reg.predict(X_test_with_species)\n",
        "r2 = r2_score(y_test, y)\n",
        "r2"
      ],
      "metadata": {
        "colab": {
          "base_uri": "https://localhost:8080/"
        },
        "id": "JqrpZvH7IHLM",
        "outputId": "ac31d10f-67b6-43cc-d6a6-5cfc39533537"
      },
      "execution_count": null,
      "outputs": [
        {
          "output_type": "execute_result",
          "data": {
            "text/plain": [
              "0.9525713724639453"
            ]
          },
          "metadata": {},
          "execution_count": 64
        }
      ]
    },
    {
      "cell_type": "markdown",
      "source": [
        "Закодируем категориальные признаки при помощи `pd.get_dummies(drop_first=True)`.Рассмотрим $r^2$ модели после избавления от коррелированности."
      ],
      "metadata": {
        "id": "qzHGRSQaIble"
      }
    },
    {
      "cell_type": "code",
      "source": [
        "X_dummy = pd.get_dummies(X['Species'], drop_first=True)\n",
        "X_train_dummy, X_test_dummy = train_test_split(X_dummy, test_size=0.2, random_state=23, stratify=df['Species'])\n",
        "X_train_with_species = pd.concat([X_train, X_train_dummy], axis=1)\n",
        "X_test_with_species = pd.concat([X_test, X_test_dummy], axis=1)\n",
        "reg = LinearRegression().fit(X_train_with_species, y_train)\n",
        "y = reg.predict(X_test_with_species)\n",
        "r2 = r2_score(y_test, y)\n",
        "r2"
      ],
      "metadata": {
        "colab": {
          "base_uri": "https://localhost:8080/"
        },
        "id": "vHxiHAqOIcp_",
        "outputId": "c437e47e-f37e-4ed1-c266-3d9cc4303989"
      },
      "execution_count": null,
      "outputs": [
        {
          "output_type": "execute_result",
          "data": {
            "text/plain": [
              "0.9457535130010672"
            ]
          },
          "metadata": {},
          "execution_count": 22
        }
      ]
    },
    {
      "cell_type": "markdown",
      "source": [
        "# Задание 3"
      ],
      "metadata": {
        "id": "3iT3cLczJOie"
      }
    },
    {
      "cell_type": "markdown",
      "source": [
        "Используя весь датасет из предыдущего задания как обучающий, выполним предсказания для зарезервированного набора данных. Для успешного выполнения задания необходимо, чтобы результат превысил пороговое значение, равное 0.98. В качестве метрики используется `r2_score`."
      ],
      "metadata": {
        "id": "q1rh1-yWVamz"
      }
    },
    {
      "cell_type": "code",
      "source": [
        "df = pd.read_csv('fish_train.csv')\n",
        "df_pred = pd.read_csv('fish_reserved.csv')"
      ],
      "metadata": {
        "id": "Dv6Y8fbiI7-f"
      },
      "execution_count": null,
      "outputs": []
    },
    {
      "cell_type": "markdown",
      "source": [
        "Возведем в квадрат значения признаков `Width`, `Height`, `Length1`, `Length2`, `Length3`, чтобы получить более линейную зависимость. Также закодируем категориальные признаки."
      ],
      "metadata": {
        "id": "-sCEMVadZ_cG"
      }
    },
    {
      "cell_type": "code",
      "source": [
        "def transform(df):\n",
        "    df[['Width', 'Height', 'Length1', 'Length2', 'Length3']] = df[['Width', 'Height', 'Length1', 'Length2', 'Length3']].apply(lambda x: x**2)\n",
        "    dummies = pd.get_dummies(df['Species'], drop_first=True)\n",
        "    df[list(dummies.columns)] = dummies\n",
        "    df.drop(['Species'], axis=1, inplace=True)\n",
        "\n",
        "transform(df)\n",
        "transform(df_pred)"
      ],
      "metadata": {
        "id": "NCNPyF6wZ-So"
      },
      "execution_count": null,
      "outputs": []
    },
    {
      "cell_type": "markdown",
      "source": [
        "Обучим модель на тренировочном наборе, оценим при помощи `r2_score`."
      ],
      "metadata": {
        "id": "JkImlkcYbBBy"
      }
    },
    {
      "cell_type": "code",
      "source": [
        "X_train = pd.DataFrame(df.drop(['Weight'], axis=1))\n",
        "y_train = pd.DataFrame(df['Weight'])\n",
        "reg = LinearRegression().fit(X_train, y_train)\n",
        "r2_score(y_train, reg.predict(X_train))"
      ],
      "metadata": {
        "colab": {
          "base_uri": "https://localhost:8080/"
        },
        "id": "ZkA2WhFRaO3D",
        "outputId": "dbdaeec8-92fe-4974-f03a-10012ee23efa"
      },
      "execution_count": null,
      "outputs": [
        {
          "output_type": "execute_result",
          "data": {
            "text/plain": [
              "0.9763679932675075"
            ]
          },
          "metadata": {},
          "execution_count": 25
        }
      ]
    },
    {
      "cell_type": "code",
      "source": [
        "res = reg.predict(df_pred)\n",
        "ans = res.flatten().tolist()\n",
        "ans"
      ],
      "metadata": {
        "colab": {
          "base_uri": "https://localhost:8080/"
        },
        "id": "5-hp8oJR9Ra-",
        "outputId": "fac1faaf-eed4-4e7f-c44f-75dadafa4c5a"
      },
      "execution_count": null,
      "outputs": [
        {
          "output_type": "execute_result",
          "data": {
            "text/plain": [
              "[95.54714703871167,\n",
              " 128.46800505093967,\n",
              " 63.94296625237308,\n",
              " 97.46840943969391,\n",
              " 54.35372112425728,\n",
              " 194.2229761229467,\n",
              " 2.0622687077650426,\n",
              " 512.8156880547618,\n",
              " 420.9718970042222,\n",
              " 78.17047303702878,\n",
              " 1702.1038931855155,\n",
              " 202.4813534872713,\n",
              " 648.732525611242,\n",
              " 1053.7357541293263,\n",
              " -48.45554844990653,\n",
              " 649.2414718750432,\n",
              " 124.72310702041352,\n",
              " 794.3839441689566,\n",
              " 1397.1767570934717,\n",
              " 68.25122414222352,\n",
              " 612.7740685910277,\n",
              " 199.2718815849854,\n",
              " 48.890973140172605,\n",
              " 187.02194691004735,\n",
              " 290.92770693340447,\n",
              " 617.0075253289709,\n",
              " 381.22874669096075,\n",
              " 16.782873287947723,\n",
              " 58.50194301457964,\n",
              " -4.3736570971974515,\n",
              " 989.4756259279897,\n",
              " 467.252559145797,\n",
              " 556.864906932222,\n",
              " 158.97556900763817,\n",
              " 19.23690130305755,\n",
              " 36.31956594554953,\n",
              " 135.06112796281428,\n",
              " 900.7334874469326,\n",
              " 750.6943995182143,\n",
              " 146.9837911063081]"
            ]
          },
          "metadata": {},
          "execution_count": 29
        }
      ]
    },
    {
      "cell_type": "markdown",
      "source": [
        "На зарезервированном наборе результат показал значение `r2_score` равное 0.984052919119."
      ],
      "metadata": {
        "id": "En2yrAcIcA5z"
      }
    }
  ]
}