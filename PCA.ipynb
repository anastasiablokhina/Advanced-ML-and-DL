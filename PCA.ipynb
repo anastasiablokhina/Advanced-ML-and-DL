{
  "nbformat": 4,
  "nbformat_minor": 0,
  "metadata": {
    "colab": {
      "provenance": []
    },
    "kernelspec": {
      "name": "python3",
      "display_name": "Python 3"
    },
    "language_info": {
      "name": "python"
    }
  },
  "cells": [
    {
      "cell_type": "markdown",
      "source": [
        "#Задание 1"
      ],
      "metadata": {
        "id": "foICdk7C5tJ8"
      }
    },
    {
      "cell_type": "markdown",
      "source": [
        "В предложенном файле находится набор синтетических данных. Данные описывают 60 объектов, каждый из которых обладает 10 признаками."
      ],
      "metadata": {
        "id": "T8YzPJEm52px"
      }
    },
    {
      "cell_type": "code",
      "source": [
        "import numpy as np\n",
        "import pandas as pd\n",
        "from sklearn.decomposition import PCA\n",
        "import matplotlib\n",
        "import matplotlib.pyplot as plt"
      ],
      "metadata": {
        "id": "iHKuc7uf5wEP"
      },
      "execution_count": null,
      "outputs": []
    },
    {
      "cell_type": "code",
      "execution_count": null,
      "metadata": {
        "colab": {
          "base_uri": "https://localhost:8080/",
          "height": 206
        },
        "id": "z9sWgVTHevAN",
        "outputId": "e0c7f40f-39f2-46d5-f48c-133b019af2c7"
      },
      "outputs": [
        {
          "output_type": "execute_result",
          "data": {
            "text/plain": [
              "           0          1          2         3          4          5         6  \\\n",
              "0 -21.759720  12.661154  -4.869926  9.598234  23.449185   0.154820  2.302482   \n",
              "1   1.408364  -6.638400   9.211893 -5.495415  -0.645486  11.878330 -4.853190   \n",
              "2   2.616627  23.965814 -13.427229  3.159229  22.770143 -16.722209  1.080627   \n",
              "3 -23.049862  13.223549  -3.489613  9.938069  23.477814  -0.379360  0.077757   \n",
              "4   4.397046  24.046032 -10.728164  2.437134  22.975698 -19.245294  1.665254   \n",
              "\n",
              "           7          8          9  \n",
              "0 -21.821396 -11.415078   2.151484  \n",
              "1  21.437183 -15.858709  14.000808  \n",
              "2  13.702021   6.303106  -0.961493  \n",
              "3 -24.087916 -11.868835   1.040066  \n",
              "4  12.259758   6.068289  -1.225398  "
            ],
            "text/html": [
              "\n",
              "  <div id=\"df-1caaec61-3641-4415-ac1e-6d9642daf87a\" class=\"colab-df-container\">\n",
              "    <div>\n",
              "<style scoped>\n",
              "    .dataframe tbody tr th:only-of-type {\n",
              "        vertical-align: middle;\n",
              "    }\n",
              "\n",
              "    .dataframe tbody tr th {\n",
              "        vertical-align: top;\n",
              "    }\n",
              "\n",
              "    .dataframe thead th {\n",
              "        text-align: right;\n",
              "    }\n",
              "</style>\n",
              "<table border=\"1\" class=\"dataframe\">\n",
              "  <thead>\n",
              "    <tr style=\"text-align: right;\">\n",
              "      <th></th>\n",
              "      <th>0</th>\n",
              "      <th>1</th>\n",
              "      <th>2</th>\n",
              "      <th>3</th>\n",
              "      <th>4</th>\n",
              "      <th>5</th>\n",
              "      <th>6</th>\n",
              "      <th>7</th>\n",
              "      <th>8</th>\n",
              "      <th>9</th>\n",
              "    </tr>\n",
              "  </thead>\n",
              "  <tbody>\n",
              "    <tr>\n",
              "      <th>0</th>\n",
              "      <td>-21.759720</td>\n",
              "      <td>12.661154</td>\n",
              "      <td>-4.869926</td>\n",
              "      <td>9.598234</td>\n",
              "      <td>23.449185</td>\n",
              "      <td>0.154820</td>\n",
              "      <td>2.302482</td>\n",
              "      <td>-21.821396</td>\n",
              "      <td>-11.415078</td>\n",
              "      <td>2.151484</td>\n",
              "    </tr>\n",
              "    <tr>\n",
              "      <th>1</th>\n",
              "      <td>1.408364</td>\n",
              "      <td>-6.638400</td>\n",
              "      <td>9.211893</td>\n",
              "      <td>-5.495415</td>\n",
              "      <td>-0.645486</td>\n",
              "      <td>11.878330</td>\n",
              "      <td>-4.853190</td>\n",
              "      <td>21.437183</td>\n",
              "      <td>-15.858709</td>\n",
              "      <td>14.000808</td>\n",
              "    </tr>\n",
              "    <tr>\n",
              "      <th>2</th>\n",
              "      <td>2.616627</td>\n",
              "      <td>23.965814</td>\n",
              "      <td>-13.427229</td>\n",
              "      <td>3.159229</td>\n",
              "      <td>22.770143</td>\n",
              "      <td>-16.722209</td>\n",
              "      <td>1.080627</td>\n",
              "      <td>13.702021</td>\n",
              "      <td>6.303106</td>\n",
              "      <td>-0.961493</td>\n",
              "    </tr>\n",
              "    <tr>\n",
              "      <th>3</th>\n",
              "      <td>-23.049862</td>\n",
              "      <td>13.223549</td>\n",
              "      <td>-3.489613</td>\n",
              "      <td>9.938069</td>\n",
              "      <td>23.477814</td>\n",
              "      <td>-0.379360</td>\n",
              "      <td>0.077757</td>\n",
              "      <td>-24.087916</td>\n",
              "      <td>-11.868835</td>\n",
              "      <td>1.040066</td>\n",
              "    </tr>\n",
              "    <tr>\n",
              "      <th>4</th>\n",
              "      <td>4.397046</td>\n",
              "      <td>24.046032</td>\n",
              "      <td>-10.728164</td>\n",
              "      <td>2.437134</td>\n",
              "      <td>22.975698</td>\n",
              "      <td>-19.245294</td>\n",
              "      <td>1.665254</td>\n",
              "      <td>12.259758</td>\n",
              "      <td>6.068289</td>\n",
              "      <td>-1.225398</td>\n",
              "    </tr>\n",
              "  </tbody>\n",
              "</table>\n",
              "</div>\n",
              "    <div class=\"colab-df-buttons\">\n",
              "\n",
              "  <div class=\"colab-df-container\">\n",
              "    <button class=\"colab-df-convert\" onclick=\"convertToInteractive('df-1caaec61-3641-4415-ac1e-6d9642daf87a')\"\n",
              "            title=\"Convert this dataframe to an interactive table.\"\n",
              "            style=\"display:none;\">\n",
              "\n",
              "  <svg xmlns=\"http://www.w3.org/2000/svg\" height=\"24px\" viewBox=\"0 -960 960 960\">\n",
              "    <path d=\"M120-120v-720h720v720H120Zm60-500h600v-160H180v160Zm220 220h160v-160H400v160Zm0 220h160v-160H400v160ZM180-400h160v-160H180v160Zm440 0h160v-160H620v160ZM180-180h160v-160H180v160Zm440 0h160v-160H620v160Z\"/>\n",
              "  </svg>\n",
              "    </button>\n",
              "\n",
              "  <style>\n",
              "    .colab-df-container {\n",
              "      display:flex;\n",
              "      gap: 12px;\n",
              "    }\n",
              "\n",
              "    .colab-df-convert {\n",
              "      background-color: #E8F0FE;\n",
              "      border: none;\n",
              "      border-radius: 50%;\n",
              "      cursor: pointer;\n",
              "      display: none;\n",
              "      fill: #1967D2;\n",
              "      height: 32px;\n",
              "      padding: 0 0 0 0;\n",
              "      width: 32px;\n",
              "    }\n",
              "\n",
              "    .colab-df-convert:hover {\n",
              "      background-color: #E2EBFA;\n",
              "      box-shadow: 0px 1px 2px rgba(60, 64, 67, 0.3), 0px 1px 3px 1px rgba(60, 64, 67, 0.15);\n",
              "      fill: #174EA6;\n",
              "    }\n",
              "\n",
              "    .colab-df-buttons div {\n",
              "      margin-bottom: 4px;\n",
              "    }\n",
              "\n",
              "    [theme=dark] .colab-df-convert {\n",
              "      background-color: #3B4455;\n",
              "      fill: #D2E3FC;\n",
              "    }\n",
              "\n",
              "    [theme=dark] .colab-df-convert:hover {\n",
              "      background-color: #434B5C;\n",
              "      box-shadow: 0px 1px 3px 1px rgba(0, 0, 0, 0.15);\n",
              "      filter: drop-shadow(0px 1px 2px rgba(0, 0, 0, 0.3));\n",
              "      fill: #FFFFFF;\n",
              "    }\n",
              "  </style>\n",
              "\n",
              "    <script>\n",
              "      const buttonEl =\n",
              "        document.querySelector('#df-1caaec61-3641-4415-ac1e-6d9642daf87a button.colab-df-convert');\n",
              "      buttonEl.style.display =\n",
              "        google.colab.kernel.accessAllowed ? 'block' : 'none';\n",
              "\n",
              "      async function convertToInteractive(key) {\n",
              "        const element = document.querySelector('#df-1caaec61-3641-4415-ac1e-6d9642daf87a');\n",
              "        const dataTable =\n",
              "          await google.colab.kernel.invokeFunction('convertToInteractive',\n",
              "                                                    [key], {});\n",
              "        if (!dataTable) return;\n",
              "\n",
              "        const docLinkHtml = 'Like what you see? Visit the ' +\n",
              "          '<a target=\"_blank\" href=https://colab.research.google.com/notebooks/data_table.ipynb>data table notebook</a>'\n",
              "          + ' to learn more about interactive tables.';\n",
              "        element.innerHTML = '';\n",
              "        dataTable['output_type'] = 'display_data';\n",
              "        await google.colab.output.renderOutput(dataTable, element);\n",
              "        const docLink = document.createElement('div');\n",
              "        docLink.innerHTML = docLinkHtml;\n",
              "        element.appendChild(docLink);\n",
              "      }\n",
              "    </script>\n",
              "  </div>\n",
              "\n",
              "\n",
              "<div id=\"df-0c9c3eba-98c7-4944-ab0c-d77b12c70f02\">\n",
              "  <button class=\"colab-df-quickchart\" onclick=\"quickchart('df-0c9c3eba-98c7-4944-ab0c-d77b12c70f02')\"\n",
              "            title=\"Suggest charts\"\n",
              "            style=\"display:none;\">\n",
              "\n",
              "<svg xmlns=\"http://www.w3.org/2000/svg\" height=\"24px\"viewBox=\"0 0 24 24\"\n",
              "     width=\"24px\">\n",
              "    <g>\n",
              "        <path d=\"M19 3H5c-1.1 0-2 .9-2 2v14c0 1.1.9 2 2 2h14c1.1 0 2-.9 2-2V5c0-1.1-.9-2-2-2zM9 17H7v-7h2v7zm4 0h-2V7h2v10zm4 0h-2v-4h2v4z\"/>\n",
              "    </g>\n",
              "</svg>\n",
              "  </button>\n",
              "\n",
              "<style>\n",
              "  .colab-df-quickchart {\n",
              "      --bg-color: #E8F0FE;\n",
              "      --fill-color: #1967D2;\n",
              "      --hover-bg-color: #E2EBFA;\n",
              "      --hover-fill-color: #174EA6;\n",
              "      --disabled-fill-color: #AAA;\n",
              "      --disabled-bg-color: #DDD;\n",
              "  }\n",
              "\n",
              "  [theme=dark] .colab-df-quickchart {\n",
              "      --bg-color: #3B4455;\n",
              "      --fill-color: #D2E3FC;\n",
              "      --hover-bg-color: #434B5C;\n",
              "      --hover-fill-color: #FFFFFF;\n",
              "      --disabled-bg-color: #3B4455;\n",
              "      --disabled-fill-color: #666;\n",
              "  }\n",
              "\n",
              "  .colab-df-quickchart {\n",
              "    background-color: var(--bg-color);\n",
              "    border: none;\n",
              "    border-radius: 50%;\n",
              "    cursor: pointer;\n",
              "    display: none;\n",
              "    fill: var(--fill-color);\n",
              "    height: 32px;\n",
              "    padding: 0;\n",
              "    width: 32px;\n",
              "  }\n",
              "\n",
              "  .colab-df-quickchart:hover {\n",
              "    background-color: var(--hover-bg-color);\n",
              "    box-shadow: 0 1px 2px rgba(60, 64, 67, 0.3), 0 1px 3px 1px rgba(60, 64, 67, 0.15);\n",
              "    fill: var(--button-hover-fill-color);\n",
              "  }\n",
              "\n",
              "  .colab-df-quickchart-complete:disabled,\n",
              "  .colab-df-quickchart-complete:disabled:hover {\n",
              "    background-color: var(--disabled-bg-color);\n",
              "    fill: var(--disabled-fill-color);\n",
              "    box-shadow: none;\n",
              "  }\n",
              "\n",
              "  .colab-df-spinner {\n",
              "    border: 2px solid var(--fill-color);\n",
              "    border-color: transparent;\n",
              "    border-bottom-color: var(--fill-color);\n",
              "    animation:\n",
              "      spin 1s steps(1) infinite;\n",
              "  }\n",
              "\n",
              "  @keyframes spin {\n",
              "    0% {\n",
              "      border-color: transparent;\n",
              "      border-bottom-color: var(--fill-color);\n",
              "      border-left-color: var(--fill-color);\n",
              "    }\n",
              "    20% {\n",
              "      border-color: transparent;\n",
              "      border-left-color: var(--fill-color);\n",
              "      border-top-color: var(--fill-color);\n",
              "    }\n",
              "    30% {\n",
              "      border-color: transparent;\n",
              "      border-left-color: var(--fill-color);\n",
              "      border-top-color: var(--fill-color);\n",
              "      border-right-color: var(--fill-color);\n",
              "    }\n",
              "    40% {\n",
              "      border-color: transparent;\n",
              "      border-right-color: var(--fill-color);\n",
              "      border-top-color: var(--fill-color);\n",
              "    }\n",
              "    60% {\n",
              "      border-color: transparent;\n",
              "      border-right-color: var(--fill-color);\n",
              "    }\n",
              "    80% {\n",
              "      border-color: transparent;\n",
              "      border-right-color: var(--fill-color);\n",
              "      border-bottom-color: var(--fill-color);\n",
              "    }\n",
              "    90% {\n",
              "      border-color: transparent;\n",
              "      border-bottom-color: var(--fill-color);\n",
              "    }\n",
              "  }\n",
              "</style>\n",
              "\n",
              "  <script>\n",
              "    async function quickchart(key) {\n",
              "      const quickchartButtonEl =\n",
              "        document.querySelector('#' + key + ' button');\n",
              "      quickchartButtonEl.disabled = true;  // To prevent multiple clicks.\n",
              "      quickchartButtonEl.classList.add('colab-df-spinner');\n",
              "      try {\n",
              "        const charts = await google.colab.kernel.invokeFunction(\n",
              "            'suggestCharts', [key], {});\n",
              "      } catch (error) {\n",
              "        console.error('Error during call to suggestCharts:', error);\n",
              "      }\n",
              "      quickchartButtonEl.classList.remove('colab-df-spinner');\n",
              "      quickchartButtonEl.classList.add('colab-df-quickchart-complete');\n",
              "    }\n",
              "    (() => {\n",
              "      let quickchartButtonEl =\n",
              "        document.querySelector('#df-0c9c3eba-98c7-4944-ab0c-d77b12c70f02 button');\n",
              "      quickchartButtonEl.style.display =\n",
              "        google.colab.kernel.accessAllowed ? 'block' : 'none';\n",
              "    })();\n",
              "  </script>\n",
              "</div>\n",
              "    </div>\n",
              "  </div>\n"
            ],
            "application/vnd.google.colaboratory.intrinsic+json": {
              "type": "dataframe",
              "variable_name": "data",
              "summary": "{\n  \"name\": \"data\",\n  \"rows\": 60,\n  \"fields\": [\n    {\n      \"column\": 0,\n      \"properties\": {\n        \"dtype\": \"number\",\n        \"std\": 11.749109410601893,\n        \"min\": -23.747094336052722,\n        \"max\": 11.152057465428877,\n        \"num_unique_values\": 60,\n        \"samples\": [\n          -21.759720215699407,\n          -14.549180372662036,\n          9.6760063564329\n        ],\n        \"semantic_type\": \"\",\n        \"description\": \"\"\n      }\n    },\n    {\n      \"column\": 1,\n      \"properties\": {\n        \"dtype\": \"number\",\n        \"std\": 11.024437396260579,\n        \"min\": -9.126388878145024,\n        \"max\": 24.04603201690143,\n        \"num_unique_values\": 60,\n        \"samples\": [\n          12.661154320474605,\n          -2.8891090592396576,\n          16.8553875337074\n        ],\n        \"semantic_type\": \"\",\n        \"description\": \"\"\n      }\n    },\n    {\n      \"column\": 2,\n      \"properties\": {\n        \"dtype\": \"number\",\n        \"std\": 7.333475386642729,\n        \"min\": -16.933729365815562,\n        \"max\": 9.914808221837,\n        \"num_unique_values\": 60,\n        \"samples\": [\n          -4.869926311342598,\n          -4.374785488840795,\n          -6.997829866060984\n        ],\n        \"semantic_type\": \"\",\n        \"description\": \"\"\n      }\n    },\n    {\n      \"column\": 3,\n      \"properties\": {\n        \"dtype\": \"number\",\n        \"std\": 11.16556871322719,\n        \"min\": -23.197206517776287,\n        \"max\": 14.544651470758613,\n        \"num_unique_values\": 60,\n        \"samples\": [\n          9.598233674934002,\n          -2.1860580218057524,\n          -20.82872719977581\n        ],\n        \"semantic_type\": \"\",\n        \"description\": \"\"\n      }\n    },\n    {\n      \"column\": 4,\n      \"properties\": {\n        \"dtype\": \"number\",\n        \"std\": 14.747539136632247,\n        \"min\": -14.050494945002132,\n        \"max\": 26.476070674320486,\n        \"num_unique_values\": 60,\n        \"samples\": [\n          23.44918499462989,\n          -5.680637631387057,\n          -12.199058796592627\n        ],\n        \"semantic_type\": \"\",\n        \"description\": \"\"\n      }\n    },\n    {\n      \"column\": 5,\n      \"properties\": {\n        \"dtype\": \"number\",\n        \"std\": 14.20380214504163,\n        \"min\": -21.66203235451012,\n        \"max\": 22.186644976121777,\n        \"num_unique_values\": 60,\n        \"samples\": [\n          0.15482038033437415,\n          16.265997318077588,\n          19.261363513833075\n        ],\n        \"semantic_type\": \"\",\n        \"description\": \"\"\n      }\n    },\n    {\n      \"column\": 6,\n      \"properties\": {\n        \"dtype\": \"number\",\n        \"std\": 9.250526555237427,\n        \"min\": -16.85582758646136,\n        \"max\": 15.719377519487084,\n        \"num_unique_values\": 60,\n        \"samples\": [\n          2.3024818563932707,\n          14.922689660894626,\n          -15.556352691247495\n        ],\n        \"semantic_type\": \"\",\n        \"description\": \"\"\n      }\n    },\n    {\n      \"column\": 7,\n      \"properties\": {\n        \"dtype\": \"number\",\n        \"std\": 15.299483831005297,\n        \"min\": -24.25699814980763,\n        \"max\": 22.00859533162645,\n        \"num_unique_values\": 60,\n        \"samples\": [\n          -21.821396186125,\n          -7.331873494117501,\n          -2.105340360887465\n        ],\n        \"semantic_type\": \"\",\n        \"description\": \"\"\n      }\n    },\n    {\n      \"column\": 8,\n      \"properties\": {\n        \"dtype\": \"number\",\n        \"std\": 13.648050390449413,\n        \"min\": -18.78133939836969,\n        \"max\": 23.47334358644992,\n        \"num_unique_values\": 60,\n        \"samples\": [\n          -11.415078437664343,\n          2.3861924150917435,\n          21.423829085401938\n        ],\n        \"semantic_type\": \"\",\n        \"description\": \"\"\n      }\n    },\n    {\n      \"column\": 9,\n      \"properties\": {\n        \"dtype\": \"number\",\n        \"std\": 12.053400432734431,\n        \"min\": -25.770481469818296,\n        \"max\": 14.000807737750026,\n        \"num_unique_values\": 60,\n        \"samples\": [\n          2.1514843223786313,\n          -13.493145624284248,\n          -22.3238658108995\n        ],\n        \"semantic_type\": \"\",\n        \"description\": \"\"\n      }\n    }\n  ]\n}"
            }
          },
          "metadata": {},
          "execution_count": 1
        }
      ],
      "source": [
        "data = pd.read_csv('https://courses.openedu.ru/assets/courseware/v1/0187032bcfa54f8c26976dad7df1eec9/asset-v1:ITMOUniversity+ADVMLDEEPLEARN+fall_2024_ITMO+type@asset+block/7_25.csv', header=None)\n",
        "data.head()"
      ]
    },
    {
      "cell_type": "code",
      "source": [
        "pca = PCA(n_components=2, svd_solver='full')\n",
        "data_transformed = pca.fit(data).transform(data)\n",
        "data_transformed[0]"
      ],
      "metadata": {
        "colab": {
          "base_uri": "https://localhost:8080/"
        },
        "id": "c9H0eoVJhpS5",
        "outputId": "1caed116-e5f1-4530-9d6d-23d3f92785c2"
      },
      "execution_count": null,
      "outputs": [
        {
          "output_type": "execute_result",
          "data": {
            "text/plain": [
              "array([32.31442582,  4.26100973])"
            ]
          },
          "metadata": {},
          "execution_count": 2
        }
      ]
    },
    {
      "cell_type": "markdown",
      "source": [
        "Координата первого объекта относительно первой главной компоненты - 32.31442582.\n",
        "Координата первого объекта относительно второй главной компоненты - 4.26100973."
      ],
      "metadata": {
        "id": "K-Shmcut6Fk7"
      }
    },
    {
      "cell_type": "code",
      "source": [
        "explained_variance = np.round(np.cumsum(pca.explained_variance_ratio_),3)\n",
        "explained_variance"
      ],
      "metadata": {
        "colab": {
          "base_uri": "https://localhost:8080/"
        },
        "id": "d2S8STRMh7Ld",
        "outputId": "33b330d5-bc26-4e3d-d870-07ffdee7726f"
      },
      "execution_count": null,
      "outputs": [
        {
          "output_type": "execute_result",
          "data": {
            "text/plain": [
              "array([0.421, 0.69 ])"
            ]
          },
          "metadata": {},
          "execution_count": 3
        }
      ]
    },
    {
      "cell_type": "markdown",
      "source": [
        "При использовании первых двух главных компонент доля объясненной дисперсии будет 0.69."
      ],
      "metadata": {
        "id": "udJdbRCO6LpX"
      }
    },
    {
      "cell_type": "code",
      "source": [
        "pca = PCA(n_components=10, svd_solver='auto')\n",
        "data_full = pca.fit(data).transform(data)\n",
        "explained_variance = np.round(np.cumsum(pca.explained_variance_ratio_),3)\n",
        "explained_variance"
      ],
      "metadata": {
        "colab": {
          "base_uri": "https://localhost:8080/"
        },
        "id": "ZNGfvwBEiR8M",
        "outputId": "387ccfc7-a93e-466d-cc99-f5c9230baa6e"
      },
      "execution_count": null,
      "outputs": [
        {
          "output_type": "execute_result",
          "data": {
            "text/plain": [
              "array([0.421, 0.69 , 0.931, 0.992, 0.994, 0.996, 0.997, 0.998, 0.999,\n",
              "       1.   ])"
            ]
          },
          "metadata": {},
          "execution_count": 4
        }
      ]
    },
    {
      "cell_type": "markdown",
      "source": [
        "Чтобы доля объясненной дисперсии превышала 0.85, необходимо использовать минимум 3 главных компоненты."
      ],
      "metadata": {
        "id": "BJYkuAPg_2Ti"
      }
    },
    {
      "cell_type": "code",
      "source": [
        "plt.plot(data_transformed[:60, 0], data_transformed[:60, 1], 'o', markerfacecolor='red', markeredgecolor='k', markersize=8);\n"
      ],
      "metadata": {
        "colab": {
          "base_uri": "https://localhost:8080/",
          "height": 430
        },
        "id": "y4g-EvaDiXl1",
        "outputId": "2110ba6e-277d-4d13-fb85-fa7a952fcf8a"
      },
      "execution_count": null,
      "outputs": [
        {
          "output_type": "display_data",
          "data": {
            "text/plain": [
              "<Figure size 640x480 with 1 Axes>"
            ],
            "image/png": "[encoded data removed]"
          },
          "metadata": {}
        }
      ]
    },
    {
      "cell_type": "markdown",
      "source": [
        "Если использовать только первые две главных компоненты, то можно выделить 5 групп объектов."
      ],
      "metadata": {
        "id": "tkL5LJlQAHyW"
      }
    },
    {
      "cell_type": "markdown",
      "source": [
        "#Задание 2"
      ],
      "metadata": {
        "id": "n_1AZFnRAVDd"
      }
    },
    {
      "cell_type": "markdown",
      "source": [
        "Для получения изображения логотипа необходимо по первым десяти главным компонентам восстановить исходное изображение по матрице счётов и матрице весов первых десяти ГК."
      ],
      "metadata": {
        "id": "Fg-i9RlZAXK7"
      }
    },
    {
      "cell_type": "code",
      "source": [
        "%matplotlib inline\n",
        "scores = np.genfromtxt('https://courses.openedu.ru/assets/courseware/v1/ee3345b3500b7571a589d3caa49ec743/asset-v1:ITMOUniversity+ADVMLDEEPLEARN+fall_2024_ITMO+type@asset+block/X_reduced_417.csv', delimiter=';')\n",
        "loadings = np.genfromtxt('https://courses.openedu.ru/assets/courseware/v1/ad22c96aa75c298f81ec21de6f334865/asset-v1:ITMOUniversity+ADVMLDEEPLEARN+fall_2024_ITMO+type@asset+block/X_loadings_417.csv', delimiter=';')\n",
        "values = np.dot(scores,loadings.T)\n",
        "plt.imshow(values, cmap='Greys_r');"
      ],
      "metadata": {
        "colab": {
          "base_uri": "https://localhost:8080/",
          "height": 433
        },
        "id": "Fl0dPlu-irYY",
        "outputId": "2cd52acb-65a9-4a87-d354-b4cb648510b1"
      },
      "execution_count": null,
      "outputs": [
        {
          "output_type": "display_data",
          "data": {
            "text/plain": [
              "<Figure size 640x480 with 1 Axes>"
            ],
            "image/png": "[encoded data removed]"
          },
          "metadata": {}
        }
      ]
    }
  ]
}